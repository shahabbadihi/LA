{
  "cells": [
    {
      "cell_type": "markdown",
      "metadata": {
        "id": "view-in-github",
        "colab_type": "text"
      },
      "source": [
        "<a href=\"https://colab.research.google.com/github/shahabbadihi/LA/blob/master/PCA-v11.ipynb\" target=\"_parent\"><img src=\"https://colab.research.google.com/assets/colab-badge.svg\" alt=\"Open In Colab\"/></a>"
      ]
    },
    {
      "cell_type": "code",
      "execution_count": 2,
      "metadata": {
        "id": "vN-Ryg446J28",
        "colab": {
          "base_uri": "https://localhost:8080/"
        },
        "outputId": "2caa8978-53c9-4b88-87d4-9f1e1687edd9"
      },
      "outputs": [
        {
          "output_type": "stream",
          "name": "stdout",
          "text": [
            "Looking in indexes: https://pypi.org/simple, https://us-python.pkg.dev/colab-wheels/public/simple/\n",
            "Requirement already satisfied: sympy in /usr/local/lib/python3.8/dist-packages (1.7.1)\n",
            "Requirement already satisfied: mpmath>=0.19 in /usr/local/lib/python3.8/dist-packages (from sympy) (1.2.1)\n"
          ]
        }
      ],
      "source": [
        "import matplotlib.pyplot as plt\n",
        "from mpl_toolkits.mplot3d import axes3d\n",
        "!pip install sympy\n",
        "\n",
        "from IPython.display import clear_output\n",
        "\n",
        "import pandas as pd\n",
        "import numpy as np\n",
        "classes = {0:'T-shirt/top',\n",
        "           1:'Trouser', \n",
        "           2: 'Pullover', \n",
        "           3: 'Dress', \n",
        "           4: 'Coat',\n",
        "           5: 'Sandal',\n",
        "           6: 'Shirt',\n",
        "           7: 'Sneaker',\n",
        "           8: 'Bag', \n",
        "           9: 'Ankle Boot'}"
      ]
    },
    {
      "cell_type": "code",
      "execution_count": 3,
      "metadata": {
        "colab": {
          "base_uri": "https://localhost:8080/"
        },
        "id": "wjSAMgjXVCx2",
        "outputId": "b0d96a4a-9284-41f4-c1bc-3da0056acdb3"
      },
      "outputs": [
        {
          "output_type": "stream",
          "name": "stdout",
          "text": [
            "title: fashion-mnist_train.csv, id: 1DpTxA2RvddJSjlNbJZ8wkvuxCzX8PuIw\n",
            "downloading to /root/data/fashion-mnist_train.csv\n",
            "title: fashion-mnist_test.csv, id: 1lJhwE7YwOoJNYVaoFpBlFqhTVfDVxvmH\n",
            "downloading to /root/data/fashion-mnist_test.csv\n"
          ]
        }
      ],
      "source": [
        "# Code to read csv file into Colaboratory:\n",
        "!pip install -U -q PyDrive\n",
        "# !pip install -U featuretools\n",
        "import os\n",
        "from pydrive.auth import GoogleAuth\n",
        "from pydrive.drive import GoogleDrive\n",
        "from google.colab import auth\n",
        "from oauth2client.client import GoogleCredentials\n",
        "# Authenticate and create the PyDrive client.\n",
        "auth.authenticate_user()\n",
        "gauth = GoogleAuth()\n",
        "gauth.credentials = GoogleCredentials.get_application_default()\n",
        "drive = GoogleDrive(gauth)\n",
        "\n",
        "\n",
        "\n",
        "local_download_path = os.path.expanduser('~/data')\n",
        "try:\n",
        "  os.makedirs(local_download_path)\n",
        "except: pass\n",
        "\n",
        "file_list = drive.ListFile(\n",
        "    {'q': \"'1cd_Yphr1FrXcUhU2nLCVQ6H_DHaCOtCb' in parents\"}).GetList()\n",
        "\n",
        "for f in file_list:\n",
        "  # 3. Create & download by id.\n",
        "  print('title: %s, id: %s' % (f['title'], f['id']))\n",
        "  fname = os.path.join(local_download_path, f['title'])\n",
        "  print('downloading to {}'.format(fname))\n",
        "  f_ = drive.CreateFile({'id': f['id']})\n",
        "  f_.GetContentFile(fname)\n",
        "\n",
        "# with open(fname, 'r') as f:\n",
        "#   print(f.read())"
      ]
    },
    {
      "cell_type": "code",
      "execution_count": 4,
      "metadata": {
        "id": "Q6ntYlmzZSj-"
      },
      "outputs": [],
      "source": [
        "selected_labels = [0, 1, 5, 8, 9]\n",
        "\n",
        "#data = pd.read_csv('fashion_MNIST/fashion-mnist_train.csv')\n",
        "data = pd.read_csv('/root/data/fashion-mnist_train.csv')\n",
        "#print(data.columns.tolist())\n",
        "data = data.loc[data['label'].isin(selected_labels)].reset_index(drop=True)\n",
        "\n",
        "# print(data)\n",
        "labels = data.pop('label')\n",
        "# print(labels)\n",
        "# print(labels[0])\n",
        "# print(type(labels))\n",
        "index = 0\n",
        "data = data.values\n",
        "\n",
        "images = np.reshape(data, (-1, 28, 28))\n",
        "\n",
        "# print(images[0][0])\n",
        "# print(images[0][0].shape)"
      ]
    },
    {
      "cell_type": "code",
      "execution_count": 5,
      "metadata": {
        "id": "g5tq50hY9VDC",
        "colab": {
          "base_uri": "https://localhost:8080/",
          "height": 281
        },
        "outputId": "ddd87ea9-c52f-461f-b223-663e7a0d959e"
      },
      "outputs": [
        {
          "output_type": "display_data",
          "data": {
            "text/plain": [
              "<Figure size 432x288 with 1 Axes>"
            ],
            "image/png": "[encoded data removed]"
          },
          "metadata": {
            "needs_background": "light"
          }
        }
      ],
      "source": [
        "import matplotlib.pyplot as plt\n",
        "# print(len(images))\n",
        "\n",
        "plt.imshow(images[index].squeeze(), cmap = 'gray')\n",
        "# plt.imshow(images[index].squeeze())\n",
        "plt.title(classes[labels[index]])\n",
        "# plt.axis('off')\n",
        "plt.show()\n",
        "\n",
        "# index += 1\n",
        "index = 0"
      ]
    },
    {
      "cell_type": "markdown",
      "metadata": {
        "id": "nKIUXlHr6Y2y"
      },
      "source": [
        "# PCA step by step\n",
        "Here is the short summary of the required steps:\n",
        "* **Scale the data** — we don’t want some feature to be voted as “more important” due to scale differences. 10m = 10000mm, but the algorithm isn’t aware of meters and millimeters\n",
        "* **Calculate covariance matrix** — square matrix giving the covariances between each pair of elements of a random vector\n",
        "* **Eigen Decomposition**\n"
      ]
    },
    {
      "cell_type": "markdown",
      "metadata": {
        "id": "n8RcNVgJ-CYH"
      },
      "source": [
        "# Scale the Data:\n",
        "Standardize features. to do so, use this formula: $$z = \\frac{(x - \\mu)}{\\sigma}$$\n",
        "where $\\mu$ is mean and $\\sigma$ is standard deviation."
      ]
    },
    {
      "cell_type": "code",
      "execution_count": 6,
      "metadata": {
        "id": "nzK7sJOO994k",
        "colab": {
          "base_uri": "https://localhost:8080/"
        },
        "outputId": "784b3de0-914c-4420-9ce2-548b6b457336"
      },
      "outputs": [
        {
          "output_type": "stream",
          "name": "stdout",
          "text": [
            "int64\n",
            "float64\n",
            "[[-0.01026584 -0.02366167 -0.02911894 ... -0.14989371 -0.10631384\n",
            "  -0.03827965]\n",
            " [-0.01026584 -0.02366167 -0.02911894 ... -0.14989371 -0.10631384\n",
            "  -0.03827965]\n",
            " [-0.01026584 -0.02366167 -0.02911894 ... -0.14989371 -0.10631384\n",
            "  -0.03827965]\n",
            " ...\n",
            " [-0.01026584 -0.02366167 -0.02911894 ... -0.14989371 -0.10631384\n",
            "  -0.03827965]\n",
            " [-0.01026584 -0.02366167 -0.02911894 ... -0.14989371 -0.10631384\n",
            "  -0.03827965]\n",
            " [-0.01026584 -0.02366167 -0.02911894 ... -0.14989371 -0.10631384\n",
            "  -0.03827965]]\n"
          ]
        }
      ],
      "source": [
        "# Code Here #####(DONE!)#####\n",
        "\n",
        "print(data.dtype)\n",
        "# mean_ = [np.mean(data[:, i]) for i in range(data.shape[1])]\n",
        "mean_ = np.mean(data, axis=0, dtype=np.double)\n",
        "print(mean_.dtype)\n",
        "# arr = np.array([[1, 2, 3], [4, 5, 6]])\n",
        "# mean = np.mean(arr, axis=0)\n",
        "\n",
        "# print(data.shape)\n",
        "# print(data[:, -1][np.nonzero(data[:, -1])].sum())\n",
        "# print(data.shape)\n",
        "\n",
        "# print(mean_[0])\n",
        "\n",
        "# print(mean_2)\n",
        "#\n",
        "#\n",
        "std_ = np.std(data, axis=0, dtype=np.double)\n",
        "# print(std_[0])\n",
        "\n",
        "# print(data[0, 0])\n",
        "\n",
        "# for i in range(data.shape[0]):\n",
        "#     for j in range(data.shape[1]):\n",
        "#         X_scaled[i, j] = \n",
        "\n",
        "X_scaled = (data - mean_) / std_\n",
        "# X_scaled = np.array(X_scaled, dtype='float32')\n",
        "# print(data)\n",
        "print(X_scaled)\n",
        "\n",
        "# X_scaled = []"
      ]
    },
    {
      "cell_type": "code",
      "source": [
        "# print(data[0])\n",
        "# print(mean_[9 * 18 - 3 - 1])\n",
        "# print(std_[9 * 18 - 3 - 1])\n",
        "k = 400\n",
        "print(data[0, k])\n",
        "print(data[1, k])\n",
        "print(X_scaled[0, k])\n",
        "print(X_scaled[1, k])\n"
      ],
      "metadata": {
        "colab": {
          "base_uri": "https://localhost:8080/"
        },
        "id": "eNu7xkYGO4UG",
        "outputId": "eb661cab-6335-4f87-f17e-93ded54c7afe"
      },
      "execution_count": 7,
      "outputs": [
        {
          "output_type": "stream",
          "name": "stdout",
          "text": [
            "0\n",
            "187\n",
            "-0.9354492959446633\n",
            "1.1730412239507135\n"
          ]
        }
      ]
    },
    {
      "cell_type": "markdown",
      "metadata": {
        "id": "kuxGHdSxPqqB"
      },
      "source": [
        "# Calculate Covariance Matrix:\n",
        "Let’s take a step back here and understand the difference between variance and covariance. Variance reports variation of a single random variable — let’s say the weight of a person, and covariance reports how much two random variables vary — like weight and height of a person.\n",
        "On the diagonal of the covariance matrix we have variances, and other elements are the covariances.\n",
        "\n",
        "For further information about covariance visit [wikipedia](https://en.wikipedia.org/wiki/Covariance)."
      ]
    },
    {
      "cell_type": "code",
      "execution_count": 8,
      "metadata": {
        "id": "vUr1Jk68-Mwc",
        "colab": {
          "base_uri": "https://localhost:8080/"
        },
        "outputId": "20abd3ed-4296-444f-a57e-1040e98829ae"
      },
      "outputs": [
        {
          "output_type": "stream",
          "name": "stdout",
          "text": [
            "[[1.         0.10344529 0.02532367 0.02635456 0.02597683]\n",
            " [0.10344529 1.         0.6794662  0.16289345 0.0536698 ]\n",
            " [0.02532367 0.6794662  1.         0.29367225 0.03539502]\n",
            " [0.02635456 0.16289345 0.29367225 1.         0.55368463]\n",
            " [0.02597683 0.0536698  0.03539502 0.55368463 1.        ]]\n"
          ]
        }
      ],
      "source": [
        "# CODE Here #####(DONE!)#####\n",
        "# using built-in functions like np.cov is NOT allowed\n",
        "\n",
        "A = X_scaled - np.mean(X_scaled, axis=0)\n",
        "\n",
        "A_transpose = A.T\n",
        "cov_matrix = np.matmul(A_transpose, A)\n",
        "cov_matrix /= A.shape[0]\n",
        "\n",
        "##\n",
        "\n",
        "assert cov_matrix.shape == (784,784) , \"covariance matrix shape should be 784 * 784\"\n",
        "\n",
        "print(cov_matrix[0:5, 0:5])"
      ]
    },
    {
      "cell_type": "markdown",
      "metadata": {
        "id": "AE5beK2BQhdo"
      },
      "source": [
        "As you can see, the diagonal elements are identical, and the matrix is symmetrical. Up next, eigendecomposition."
      ]
    },
    {
      "cell_type": "markdown",
      "metadata": {
        "id": "rSf2ECtuQt1G"
      },
      "source": [
        "# Eigendecomposition\n",
        "`Eigendecomposition is a process that decomposes a square matrix into eigenvectors and eigenvalues.` <font color='red'>Eigenvectors are simple unit vectors</font>, and <font color='green'>eigenvalues are coefficients which give the magnitude to the eigenvectors. </font>\n",
        "\n",
        "We know so far that our `covariance matrix is symmetrical.` As it turns out, `eigenvectors of symmetric matrices are orthogonal.` For PCA this means that we have the first principal component which explains most of the variance. Orthogonal to that is the second principal component, which explains most of the remaining variance. This is repeated for N number of principal components, where N equals to number of original features.\n",
        "\n",
        "And this turns out to be neat for us — principal components are sorted by percentage of variance explained, as we can decide how many should we keep. For example, if we have 100 features originally, but the first 3 principal components explain 95% of the variance, then it makes sense to keep only these 3 for visualizations and model training.\n"
      ]
    },
    {
      "cell_type": "code",
      "execution_count": 9,
      "metadata": {
        "id": "T7UUzou8O7wi",
        "colab": {
          "base_uri": "https://localhost:8080/"
        },
        "outputId": "1f576b18-6a8d-4566-ad3b-593b68859b8a"
      },
      "outputs": [
        {
          "output_type": "stream",
          "name": "stdout",
          "text": [
            "First 10 eigenvalues: [153.06089638 134.58065215  53.62445879  45.8337029   35.94673788\n",
            "  27.17131546  16.1684106   11.26287602   9.89927745   8.76852687]\n",
            "\n",
            "\n",
            "Last 10 eigenvalues: [0.00828857 0.00803598 0.0077789  0.00706423 0.00676036 0.00665371\n",
            " 0.00618769 0.0057158  0.00547373 0.00451606]\n"
          ]
        }
      ],
      "source": [
        "# Code Here\n",
        "# Implementing the functions to return eigen vectors and values are optional and have extra score.\n",
        "from numpy import linalg as LA\n",
        "import sympy as sp\n",
        "import time\n",
        "\n",
        "def calc_symbolic_determinant(matrix, n):\n",
        "    eig_symbol = sp.symbols('lambda')\n",
        "    # xarr = range(-n//2, n//2 + 1)\n",
        "    xarr = np.linspace(0, 1, n+1, endpoint=True)\n",
        "    \n",
        "    g_func = sp.lambdify((eig_symbol), matrix, modules='numpy')\n",
        "    yarr = []\n",
        "    # for x in xarr:\n",
        "        # yarr.append(LA.slogdet(g_func(x)))\n",
        "\n",
        "\n",
        "    # yarr = [LA.slogdet(g_func(x)) for x in xarr]\n",
        "    # for i in range(len(yarr)):\n",
        "    #     yarr[i] = yarr[i][0] * np.exp(yarr[i][1], dtype='float128')\n",
        "\n",
        "    yarr = [LA.det(g_func(x)) for x in xarr]\n",
        "\n",
        "\n",
        "    print(yarr)\n",
        "    poly = sp.expand(sp.interpolating_poly(len(xarr), eig_symbol, xarr, yarr))\n",
        "    return poly\n",
        "\n",
        "def calc_eigenvalues(matrix, n):\n",
        "    matrix = sp.Matrix(matrix)\n",
        "    I = sp.eye(n)\n",
        "    eig_symbol = sp.symbols('lambda')\n",
        "    matrix = matrix - eig_symbol * I\n",
        "    expr_for_eig_values = calc_symbolic_determinant(matrix, n)\n",
        "    print(expr_for_eig_values)\n",
        "    # expr_for_eig_values = matrix.charpoly().as_expr()\n",
        "    eq = sp.Eq(expr_for_eig_values, 0)\n",
        "    eig_values = sp.solve(eq)\n",
        "    return eig_values\n",
        "\n",
        "    # print(det)\n",
        "    # print(I)\n",
        "    # print(eig_values)\n",
        "    # print(matrix)\n",
        "    # print(type(matrix))\n",
        "\n",
        "####### JUST EXAMPLE!!!\n",
        "# mat = np.array([[1, 2], [4, 5]])\n",
        "\n",
        "# start = time.time()\n",
        "# print(calc_eigenvalues(cov_matrix, cov_matrix.shape[0]))\n",
        "# print(calc_eigenvalues(mat, mat.shape[0]))\n",
        "# print(str(time.time() - start))\n",
        "\n",
        "# print(type(mat))\n",
        "\n",
        "# mat = np.array([[1, 2, 3], [4, 5, 6], [7, 8, 9]])\n",
        "# mat = sp.Matrix(mat)\n",
        "# mat = np.array(mat, dtype=np.double)\n",
        "# mat = np.zeros((1000, 1000))\n",
        "# print(mat)\n",
        "\n",
        "\n",
        "# start = time.time()\n",
        "# cov_matrix = sp.Matrix(cov_matrix)\n",
        "# g_func = sp.lambdify((), cov_matrix, modules='numpy')\n",
        "# cov_matrix = g_func()\n",
        "# for i in range(784):\n",
        "  # print(LA.slogdet(cov_matrix))\n",
        "# print(str(time.time() - start))\n",
        "\n",
        "# a = []\n",
        "# for i in range(10):\n",
        "#     a.append(LA.slogdet(cov_matrix))\n",
        "# def func(sign, expp):\n",
        "#     return sign * np.exp(expp, dtype=np.double)\n",
        "# print(a[0])\n",
        "# for i in range(len(a)):\n",
        "#     a[i] = a[i][0] * np.exp(a[i][1])\n",
        "# print(a)\n",
        "\n",
        "\n",
        "\n",
        "eig_values, eig_vectors = LA.eig(cov_matrix)\n",
        "idx = eig_values.argsort()[::-1]\n",
        "eig_values = eig_values[idx]\n",
        "eig_vectors = eig_vectors[:,idx]\n",
        "# print(eig_values, eig_vectors)\n",
        "##\n",
        "\n",
        "\n",
        "print(f'First 10 eigenvalues: {eig_values[:10]}')\n",
        "print(f'\\n\\nLast 10 eigenvalues: {eig_values[-10:]}')"
      ]
    },
    {
      "cell_type": "code",
      "execution_count": 10,
      "metadata": {
        "id": "R8gds64QRU-A",
        "scrolled": true,
        "colab": {
          "base_uri": "https://localhost:8080/",
          "height": 282
        },
        "outputId": "96c7fb45-74c2-437b-bb87-867667468d34"
      },
      "outputs": [
        {
          "output_type": "stream",
          "name": "stderr",
          "text": [
            "<ipython-input-10-3c8922d7a9e0>:2: UserWarning: In Matplotlib 3.3 individual lines on a stem plot will be added as a LineCollection instead of individual lines. This significantly improves the performance of a stem plot. To remove this warning and switch to the new behaviour, set the \"use_line_collection\" keyword argument to True.\n",
            "  plt.stem(eig_values[:200])\n"
          ]
        },
        {
          "output_type": "display_data",
          "data": {
            "text/plain": [
              "<Figure size 360x216 with 1 Axes>"
            ],
            "image/png": "[encoded data removed]"
          },
          "metadata": {
            "needs_background": "light"
          }
        }
      ],
      "source": [
        "plt.figure(figsize=(5,3))\n",
        "plt.stem(eig_values[:200])\n",
        "plt.xlabel('Eigen value index')\n",
        "plt.ylabel('Eigen value')\n",
        "plt.show()"
      ]
    },
    {
      "cell_type": "code",
      "execution_count": 11,
      "metadata": {
        "id": "VXebdStRRWm_",
        "colab": {
          "base_uri": "https://localhost:8080/"
        },
        "outputId": "1376d49c-d1e4-46bb-ea8c-220d44a95c61"
      },
      "outputs": [
        {
          "output_type": "stream",
          "name": "stdout",
          "text": [
            "Eigenvectors upto 1 expresses 19.523073518199478 % variance\n",
            "Eigenvectors upto 2 expresses 36.68897302741585 % variance\n",
            "Eigenvectors upto 3 expresses 43.528827465541504 % variance\n",
            "Eigenvectors upto 4 expresses 49.374963038968374 % variance\n",
            "Eigenvectors upto 5 expresses 53.96000613539757 % variance\n",
            "Eigenvectors upto 6 expresses 57.4257351479301 % variance\n",
            "Eigenvectors upto 7 expresses 59.488032417703934 % variance\n",
            "Eigenvectors upto 8 expresses 60.92462374642833 % variance\n",
            "Eigenvectors upto 9 expresses 62.187286686003866 % variance\n",
            "Eigenvectors upto 10 expresses 63.30572123534584 % variance\n",
            "Eigenvectors upto 11 expresses 64.34015921745102 % variance\n",
            "Eigenvectors upto 12 expresses 65.30345377006299 % variance\n",
            "Eigenvectors upto 13 expresses 66.22157672421169 % variance\n",
            "Eigenvectors upto 14 expresses 66.99535115019921 % variance\n",
            "Eigenvectors upto 15 expresses 67.74056613252276 % variance\n",
            "Eigenvectors upto 16 expresses 68.43816735826339 % variance\n",
            "Eigenvectors upto 17 expresses 69.06144815928647 % variance\n",
            "Eigenvectors upto 18 expresses 69.65721522913017 % variance\n",
            "Eigenvectors upto 19 expresses 70.23263378314854 % variance\n",
            "Eigenvectors upto 20 expresses 70.77409539692972 % variance\n",
            "Eigenvectors upto 21 expresses 71.28998391299857 % variance\n",
            "Eigenvectors upto 22 expresses 71.77867360249293 % variance\n",
            "Eigenvectors upto 23 expresses 72.2530137187818 % variance\n",
            "Eigenvectors upto 24 expresses 72.70715322014475 % variance\n",
            "Eigenvectors upto 25 expresses 73.15049893439334 % variance\n",
            "Eigenvectors upto 26 expresses 73.57926346066206 % variance\n",
            "Eigenvectors upto 27 expresses 73.99083874980504 % variance\n",
            "Eigenvectors upto 28 expresses 74.3649947848083 % variance\n",
            "Eigenvectors upto 29 expresses 74.7322866419971 % variance\n",
            "Eigenvectors upto 30 expresses 75.09208305657285 % variance\n",
            "Eigenvectors upto 31 expresses 75.43579532969468 % variance\n",
            "Eigenvectors upto 32 expresses 75.76003634117215 % variance\n",
            "Eigenvectors upto 33 expresses 76.07692505971896 % variance\n",
            "Eigenvectors upto 34 expresses 76.39010008190414 % variance\n",
            "Eigenvectors upto 35 expresses 76.69951785965624 % variance\n",
            "Eigenvectors upto 36 expresses 76.9997349037411 % variance\n",
            "Eigenvectors upto 37 expresses 77.2974374110246 % variance\n",
            "Eigenvectors upto 38 expresses 77.57746353284108 % variance\n",
            "Eigenvectors upto 39 expresses 77.85557690851206 % variance\n",
            "Eigenvectors upto 40 expresses 78.11847151577814 % variance\n",
            "Eigenvectors upto 41 expresses 78.37460096541027 % variance\n",
            "Eigenvectors upto 42 expresses 78.62937568007644 % variance\n",
            "Eigenvectors upto 43 expresses 78.87777483330174 % variance\n",
            "Eigenvectors upto 44 expresses 79.11572208615507 % variance\n",
            "Eigenvectors upto 45 expresses 79.34999900941531 % variance\n",
            "Eigenvectors upto 46 expresses 79.57892203584007 % variance\n",
            "Eigenvectors upto 47 expresses 79.8051974844857 % variance\n",
            "Eigenvectors upto 48 expresses 80.02688232660734 % variance\n",
            "Eigenvectors upto 49 expresses 80.2417059153431 % variance\n",
            "Eigenvectors upto 50 expresses 80.45463843255449 % variance\n",
            "Eigenvectors upto 51 expresses 80.66108561111132 % variance\n",
            "Eigenvectors upto 52 expresses 80.86249284501675 % variance\n",
            "Eigenvectors upto 53 expresses 81.06125443584015 % variance\n",
            "Eigenvectors upto 54 expresses 81.25156510409525 % variance\n",
            "Eigenvectors upto 55 expresses 81.43949969033736 % variance\n",
            "Eigenvectors upto 56 expresses 81.6230360188461 % variance\n",
            "Eigenvectors upto 57 expresses 81.80346627261571 % variance\n",
            "Eigenvectors upto 58 expresses 81.98259551293377 % variance\n",
            "Eigenvectors upto 59 expresses 82.15807146471793 % variance\n",
            "Eigenvectors upto 60 expresses 82.3297085643332 % variance\n",
            "Eigenvectors upto 61 expresses 82.49512738608587 % variance\n",
            "Eigenvectors upto 62 expresses 82.65898721427412 % variance\n",
            "Eigenvectors upto 63 expresses 82.82043287885128 % variance\n",
            "Eigenvectors upto 64 expresses 82.98033615482287 % variance\n",
            "Eigenvectors upto 65 expresses 83.13693566676623 % variance\n",
            "Eigenvectors upto 66 expresses 83.29189512616549 % variance\n",
            "Eigenvectors upto 67 expresses 83.44392797509396 % variance\n",
            "Eigenvectors upto 68 expresses 83.59467704525082 % variance\n",
            "Eigenvectors upto 69 expresses 83.74185037281363 % variance\n",
            "Eigenvectors upto 70 expresses 83.88871842769694 % variance\n",
            "Eigenvectors upto 71 expresses 84.03185385046423 % variance\n",
            "Eigenvectors upto 72 expresses 84.17265034243759 % variance\n",
            "Eigenvectors upto 73 expresses 84.31171401339921 % variance\n",
            "Eigenvectors upto 74 expresses 84.44748817536446 % variance\n",
            "Eigenvectors upto 75 expresses 84.5819919512203 % variance\n",
            "Eigenvectors upto 76 expresses 84.71630025803309 % variance\n",
            "Eigenvectors upto 77 expresses 84.84685575346774 % variance\n",
            "Eigenvectors upto 78 expresses 84.97628021705384 % variance\n",
            "Eigenvectors upto 79 expresses 85.1046106955414 % variance\n",
            "Eigenvectors upto 80 expresses 85.23038207999026 % variance\n",
            "Eigenvectors upto 81 expresses 85.35423941474227 % variance\n",
            "Eigenvectors upto 82 expresses 85.47734596146171 % variance\n",
            "Eigenvectors upto 83 expresses 85.59786769401201 % variance\n",
            "Eigenvectors upto 84 expresses 85.7176126734849 % variance\n",
            "Eigenvectors upto 85 expresses 85.83427598795198 % variance\n",
            "Eigenvectors upto 86 expresses 85.94667144011598 % variance\n",
            "Eigenvectors upto 87 expresses 86.05804729067123 % variance\n",
            "Eigenvectors upto 88 expresses 86.16806024394397 % variance\n",
            "Eigenvectors upto 89 expresses 86.27677116763567 % variance\n",
            "Eigenvectors upto 90 expresses 86.38486080653023 % variance\n",
            "Eigenvectors upto 91 expresses 86.4911516692365 % variance\n",
            "Eigenvectors upto 92 expresses 86.59561189419865 % variance\n",
            "Eigenvectors upto 93 expresses 86.69849364741239 % variance\n",
            "Eigenvectors upto 94 expresses 86.80027090816805 % variance\n",
            "Eigenvectors upto 95 expresses 86.90161296985823 % variance\n",
            "Eigenvectors upto 96 expresses 87.00113630636673 % variance\n",
            "Eigenvectors upto 97 expresses 87.09951895063668 % variance\n",
            "Eigenvectors upto 98 expresses 87.19660211966995 % variance\n",
            "Eigenvectors upto 99 expresses 87.29277359021046 % variance\n",
            "Eigenvectors upto 100 expresses 87.38881789642267 % variance\n",
            "Eigenvectors upto 101 expresses 87.48236516319254 % variance\n",
            "Eigenvectors upto 102 expresses 87.57533020551652 % variance\n",
            "Eigenvectors upto 103 expresses 87.66759757589001 % variance\n",
            "Eigenvectors upto 104 expresses 87.75766803159483 % variance\n",
            "Eigenvectors upto 105 expresses 87.84708182521854 % variance\n",
            "Eigenvectors upto 106 expresses 87.93534162703314 % variance\n",
            "Eigenvectors upto 107 expresses 88.02282412880491 % variance\n",
            "Eigenvectors upto 108 expresses 88.1092236915239 % variance\n",
            "Eigenvectors upto 109 expresses 88.19461142518118 % variance\n",
            "Eigenvectors upto 110 expresses 88.27926424865001 % variance\n",
            "Eigenvectors upto 111 expresses 88.36321903538747 % variance\n",
            "Eigenvectors upto 112 expresses 88.4463377713692 % variance\n",
            "Eigenvectors upto 113 expresses 88.52904273581865 % variance\n",
            "Eigenvectors upto 114 expresses 88.61070291301976 % variance\n",
            "Eigenvectors upto 115 expresses 88.69122975732914 % variance\n",
            "Eigenvectors upto 116 expresses 88.77094119102681 % variance\n",
            "Eigenvectors upto 117 expresses 88.84876593579175 % variance\n",
            "Eigenvectors upto 118 expresses 88.92532319841631 % variance\n",
            "Eigenvectors upto 119 expresses 89.00149325593574 % variance\n",
            "Eigenvectors upto 120 expresses 89.07600350317715 % variance\n",
            "Eigenvectors upto 121 expresses 89.15019232784978 % variance\n",
            "Eigenvectors upto 122 expresses 89.22300947532433 % variance\n",
            "Eigenvectors upto 123 expresses 89.29436901348296 % variance\n",
            "Eigenvectors upto 124 expresses 89.36543236585459 % variance\n",
            "Eigenvectors upto 125 expresses 89.43606707849132 % variance\n",
            "Eigenvectors upto 126 expresses 89.50612896512592 % variance\n",
            "Eigenvectors upto 127 expresses 89.57571706854155 % variance\n",
            "Eigenvectors upto 128 expresses 89.64460990942086 % variance\n",
            "Eigenvectors upto 129 expresses 89.7124856199541 % variance\n",
            "Eigenvectors upto 130 expresses 89.7801242251288 % variance\n",
            "Eigenvectors upto 131 expresses 89.84705899762473 % variance\n",
            "Eigenvectors upto 132 expresses 89.9135463682951 % variance\n",
            "Eigenvectors upto 133 expresses 89.97960533928817 % variance\n",
            "Eigenvectors upto 134 expresses 90.04536005562717 % variance\n",
            "Eigenvectors upto 135 expresses 90.11038226124946 % variance\n",
            "Eigenvectors upto 136 expresses 90.1749441611908 % variance\n",
            "Eigenvectors upto 137 expresses 90.23875262895228 % variance\n",
            "Eigenvectors upto 138 expresses 90.30197028883768 % variance\n",
            "Eigenvectors upto 139 expresses 90.3643325831529 % variance\n",
            "Eigenvectors upto 140 expresses 90.42606758546121 % variance\n",
            "Eigenvectors upto 141 expresses 90.48727349239375 % variance\n",
            "Eigenvectors upto 142 expresses 90.5481152349987 % variance\n",
            "Eigenvectors upto 143 expresses 90.60839092443292 % variance\n",
            "Eigenvectors upto 144 expresses 90.66839632988375 % variance\n",
            "Eigenvectors upto 145 expresses 90.72756342358305 % variance\n",
            "Eigenvectors upto 146 expresses 90.7866542005817 % variance\n",
            "Eigenvectors upto 147 expresses 90.84534832889935 % variance\n",
            "Eigenvectors upto 148 expresses 90.90277177461034 % variance\n",
            "Eigenvectors upto 149 expresses 90.9598754431005 % variance\n",
            "Eigenvectors upto 150 expresses 91.0165745020536 % variance\n",
            "Eigenvectors upto 151 expresses 91.07264976943074 % variance\n",
            "Eigenvectors upto 152 expresses 91.12831186359139 % variance\n",
            "Eigenvectors upto 153 expresses 91.18385287310812 % variance\n",
            "Eigenvectors upto 154 expresses 91.23897361954054 % variance\n",
            "Eigenvectors upto 155 expresses 91.29344756876228 % variance\n",
            "Eigenvectors upto 156 expresses 91.34755175936382 % variance\n",
            "Eigenvectors upto 157 expresses 91.40121121939421 % variance\n",
            "Eigenvectors upto 158 expresses 91.45426306300877 % variance\n",
            "Eigenvectors upto 159 expresses 91.50670923095088 % variance\n",
            "Eigenvectors upto 160 expresses 91.55859360579744 % variance\n",
            "Eigenvectors upto 161 expresses 91.61016101616129 % variance\n",
            "Eigenvectors upto 162 expresses 91.66088512142171 % variance\n",
            "Eigenvectors upto 163 expresses 91.71117756770843 % variance\n",
            "Eigenvectors upto 164 expresses 91.76120618222139 % variance\n",
            "Eigenvectors upto 165 expresses 91.8110370319363 % variance\n",
            "Eigenvectors upto 166 expresses 91.86034558114102 % variance\n",
            "Eigenvectors upto 167 expresses 91.9092707142456 % variance\n",
            "Eigenvectors upto 168 expresses 91.95793128301715 % variance\n",
            "Eigenvectors upto 169 expresses 92.00612988140729 % variance\n",
            "Eigenvectors upto 170 expresses 92.05402852364749 % variance\n",
            "Eigenvectors upto 171 expresses 92.10178839213451 % variance\n",
            "Eigenvectors upto 172 expresses 92.1490948473306 % variance\n",
            "Eigenvectors upto 173 expresses 92.19621186223425 % variance\n",
            "Eigenvectors upto 174 expresses 92.24300773302602 % variance\n",
            "Eigenvectors upto 175 expresses 92.28941226212902 % variance\n",
            "Eigenvectors upto 176 expresses 92.3355958738343 % variance\n",
            "Eigenvectors upto 177 expresses 92.3814193066412 % variance\n",
            "Eigenvectors upto 178 expresses 92.42663065369945 % variance\n",
            "Eigenvectors upto 179 expresses 92.47171910493464 % variance\n",
            "Eigenvectors upto 180 expresses 92.51641709989424 % variance\n",
            "Eigenvectors upto 181 expresses 92.56078620151348 % variance\n",
            "Eigenvectors upto 182 expresses 92.60462502416296 % variance\n",
            "Eigenvectors upto 183 expresses 92.64821808518963 % variance\n",
            "Eigenvectors upto 184 expresses 92.6912841810563 % variance\n",
            "Eigenvectors upto 185 expresses 92.73380308892406 % variance\n",
            "Eigenvectors upto 186 expresses 92.77591722057858 % variance\n",
            "Eigenvectors upto 187 expresses 92.81790880206299 % variance\n",
            "Eigenvectors upto 188 expresses 92.85960430842418 % variance\n",
            "Eigenvectors upto 189 expresses 92.90093950818098 % variance\n",
            "Eigenvectors upto 190 expresses 92.94211943770703 % variance\n",
            "Eigenvectors upto 191 expresses 92.98309278535962 % variance\n",
            "Eigenvectors upto 192 expresses 93.02368940424194 % variance\n",
            "Eigenvectors upto 193 expresses 93.06387924339076 % variance\n",
            "Eigenvectors upto 194 expresses 93.10372885357259 % variance\n",
            "Eigenvectors upto 195 expresses 93.14341309279312 % variance\n",
            "Eigenvectors upto 196 expresses 93.1828550664471 % variance\n",
            "Eigenvectors upto 197 expresses 93.22186910944355 % variance\n",
            "Eigenvectors upto 198 expresses 93.26078276733308 % variance\n",
            "Eigenvectors upto 199 expresses 93.29942065942821 % variance\n",
            "Eigenvectors upto 200 expresses 93.33800668132713 % variance\n"
          ]
        }
      ],
      "source": [
        "for i in range(200):\n",
        "    exp_var = np.sum(eig_values[:i+1])*100 / np.sum(eig_values)\n",
        "    print(f'Eigenvectors upto {i+1} expresses {exp_var} % variance')"
      ]
    },
    {
      "cell_type": "markdown",
      "metadata": {
        "id": "ILoLIAYrWTSq"
      },
      "source": [
        "# Visualizations\n",
        "## Eigenvector Visualization\n",
        "\n",
        "Project the scaled input into the first and second eigen vector and see the result."
      ]
    },
    {
      "cell_type": "code",
      "execution_count": 12,
      "metadata": {
        "id": "-89VNNOIWShA",
        "colab": {
          "base_uri": "https://localhost:8080/",
          "height": 242
        },
        "outputId": "4f9305bf-310a-4159-848a-443b61dd0699"
      },
      "outputs": [
        {
          "output_type": "stream",
          "name": "stdout",
          "text": [
            "(784,)\n",
            "(30000, 784)\n"
          ]
        },
        {
          "output_type": "execute_result",
          "data": {
            "text/plain": [
              "         PC1        PC2  Y\n",
              "0 -13.846035  -3.141500  9\n",
              "1  13.780054   8.119654  0\n",
              "2  -4.080987 -20.163169  5\n",
              "3   4.344533   0.808241  8\n",
              "4  21.412902  19.844596  0"
            ],
            "text/html": [
              "\n",
              "  <div id=\"df-1262ea12-1119-4377-949b-77a7b571a289\">\n",
              "    <div class=\"colab-df-container\">\n",
              "      <div>\n",
              "<style scoped>\n",
              "    .dataframe tbody tr th:only-of-type {\n",
              "        vertical-align: middle;\n",
              "    }\n",
              "\n",
              "    .dataframe tbody tr th {\n",
              "        vertical-align: top;\n",
              "    }\n",
              "\n",
              "    .dataframe thead th {\n",
              "        text-align: right;\n",
              "    }\n",
              "</style>\n",
              "<table border=\"1\" class=\"dataframe\">\n",
              "  <thead>\n",
              "    <tr style=\"text-align: right;\">\n",
              "      <th></th>\n",
              "      <th>PC1</th>\n",
              "      <th>PC2</th>\n",
              "      <th>Y</th>\n",
              "    </tr>\n",
              "  </thead>\n",
              "  <tbody>\n",
              "    <tr>\n",
              "      <th>0</th>\n",
              "      <td>-13.846035</td>\n",
              "      <td>-3.141500</td>\n",
              "      <td>9</td>\n",
              "    </tr>\n",
              "    <tr>\n",
              "      <th>1</th>\n",
              "      <td>13.780054</td>\n",
              "      <td>8.119654</td>\n",
              "      <td>0</td>\n",
              "    </tr>\n",
              "    <tr>\n",
              "      <th>2</th>\n",
              "      <td>-4.080987</td>\n",
              "      <td>-20.163169</td>\n",
              "      <td>5</td>\n",
              "    </tr>\n",
              "    <tr>\n",
              "      <th>3</th>\n",
              "      <td>4.344533</td>\n",
              "      <td>0.808241</td>\n",
              "      <td>8</td>\n",
              "    </tr>\n",
              "    <tr>\n",
              "      <th>4</th>\n",
              "      <td>21.412902</td>\n",
              "      <td>19.844596</td>\n",
              "      <td>0</td>\n",
              "    </tr>\n",
              "  </tbody>\n",
              "</table>\n",
              "</div>\n",
              "      <button class=\"colab-df-convert\" onclick=\"convertToInteractive('df-1262ea12-1119-4377-949b-77a7b571a289')\"\n",
              "              title=\"Convert this dataframe to an interactive table.\"\n",
              "              style=\"display:none;\">\n",
              "        \n",
              "  <svg xmlns=\"http://www.w3.org/2000/svg\" height=\"24px\"viewBox=\"0 0 24 24\"\n",
              "       width=\"24px\">\n",
              "    <path d=\"M0 0h24v24H0V0z\" fill=\"none\"/>\n",
              "    <path d=\"M18.56 5.44l.94 2.06.94-2.06 2.06-.94-2.06-.94-.94-2.06-.94 2.06-2.06.94zm-11 1L8.5 8.5l.94-2.06 2.06-.94-2.06-.94L8.5 2.5l-.94 2.06-2.06.94zm10 10l.94 2.06.94-2.06 2.06-.94-2.06-.94-.94-2.06-.94 2.06-2.06.94z\"/><path d=\"M17.41 7.96l-1.37-1.37c-.4-.4-.92-.59-1.43-.59-.52 0-1.04.2-1.43.59L10.3 9.45l-7.72 7.72c-.78.78-.78 2.05 0 2.83L4 21.41c.39.39.9.59 1.41.59.51 0 1.02-.2 1.41-.59l7.78-7.78 2.81-2.81c.8-.78.8-2.07 0-2.86zM5.41 20L4 18.59l7.72-7.72 1.47 1.35L5.41 20z\"/>\n",
              "  </svg>\n",
              "      </button>\n",
              "      \n",
              "  <style>\n",
              "    .colab-df-container {\n",
              "      display:flex;\n",
              "      flex-wrap:wrap;\n",
              "      gap: 12px;\n",
              "    }\n",
              "\n",
              "    .colab-df-convert {\n",
              "      background-color: #E8F0FE;\n",
              "      border: none;\n",
              "      border-radius: 50%;\n",
              "      cursor: pointer;\n",
              "      display: none;\n",
              "      fill: #1967D2;\n",
              "      height: 32px;\n",
              "      padding: 0 0 0 0;\n",
              "      width: 32px;\n",
              "    }\n",
              "\n",
              "    .colab-df-convert:hover {\n",
              "      background-color: #E2EBFA;\n",
              "      box-shadow: 0px 1px 2px rgba(60, 64, 67, 0.3), 0px 1px 3px 1px rgba(60, 64, 67, 0.15);\n",
              "      fill: #174EA6;\n",
              "    }\n",
              "\n",
              "    [theme=dark] .colab-df-convert {\n",
              "      background-color: #3B4455;\n",
              "      fill: #D2E3FC;\n",
              "    }\n",
              "\n",
              "    [theme=dark] .colab-df-convert:hover {\n",
              "      background-color: #434B5C;\n",
              "      box-shadow: 0px 1px 3px 1px rgba(0, 0, 0, 0.15);\n",
              "      filter: drop-shadow(0px 1px 2px rgba(0, 0, 0, 0.3));\n",
              "      fill: #FFFFFF;\n",
              "    }\n",
              "  </style>\n",
              "\n",
              "      <script>\n",
              "        const buttonEl =\n",
              "          document.querySelector('#df-1262ea12-1119-4377-949b-77a7b571a289 button.colab-df-convert');\n",
              "        buttonEl.style.display =\n",
              "          google.colab.kernel.accessAllowed ? 'block' : 'none';\n",
              "\n",
              "        async function convertToInteractive(key) {\n",
              "          const element = document.querySelector('#df-1262ea12-1119-4377-949b-77a7b571a289');\n",
              "          const dataTable =\n",
              "            await google.colab.kernel.invokeFunction('convertToInteractive',\n",
              "                                                     [key], {});\n",
              "          if (!dataTable) return;\n",
              "\n",
              "          const docLinkHtml = 'Like what you see? Visit the ' +\n",
              "            '<a target=\"_blank\" href=https://colab.research.google.com/notebooks/data_table.ipynb>data table notebook</a>'\n",
              "            + ' to learn more about interactive tables.';\n",
              "          element.innerHTML = '';\n",
              "          dataTable['output_type'] = 'display_data';\n",
              "          await google.colab.output.renderOutput(dataTable, element);\n",
              "          const docLink = document.createElement('div');\n",
              "          docLink.innerHTML = docLinkHtml;\n",
              "          element.appendChild(docLink);\n",
              "        }\n",
              "      </script>\n",
              "    </div>\n",
              "  </div>\n",
              "  "
            ]
          },
          "metadata": {},
          "execution_count": 12
        }
      ],
      "source": [
        "# Code Here\n",
        "print(eig_vectors[0].shape)\n",
        "print(X_scaled.shape)\n",
        "\n",
        "projected_1 = X_scaled.dot(eig_vectors[ : , 0])\n",
        "projected_2 = X_scaled.dot(eig_vectors[ : , 1])\n",
        "\n",
        "##\n",
        "res2d = pd.DataFrame(projected_1, columns=['PC1'])\n",
        "res2d['PC2'] = projected_2\n",
        "res2d['Y'] = labels\n",
        "res2d.head()"
      ]
    },
    {
      "cell_type": "markdown",
      "metadata": {
        "id": "9J6YZeXEcLRc"
      },
      "source": [
        "## 2D Visualization"
      ]
    },
    {
      "cell_type": "code",
      "execution_count": 15,
      "metadata": {
        "id": "s1_k1eFoWgkI",
        "colab": {
          "base_uri": "https://localhost:8080/",
          "height": 374
        },
        "outputId": "bd6342a3-52a9-4632-d3ed-b50ba7023d9a"
      },
      "outputs": [
        {
          "output_type": "display_data",
          "data": {
            "text/plain": [
              "<Figure size 720x432 with 1 Axes>"
            ],
            "image/png": "[encoded data removed]"
          },
          "metadata": {
            "needs_background": "light"
          }
        }
      ],
      "source": [
        "plt.figure(figsize=(10,6))\n",
        "for label in selected_labels:\n",
        "    label_name = classes[label]\n",
        "    coords = res2d[res2d['Y']==label]\n",
        "    x = coords['PC1'].values\n",
        "    y = coords['PC2'].values\n",
        "    # print(coords)\n",
        "    plt.scatter(x, y, label=label_name)\n",
        "\n",
        "plt.legend()\n",
        "plt.show()"
      ]
    },
    {
      "cell_type": "markdown",
      "metadata": {
        "id": "ELdWci2YcOIU"
      },
      "source": [
        "## 3D Visualization\n",
        "\n",
        "Besides the above projections, project the scaled input on the third eigen vector to see the 3D visualization."
      ]
    },
    {
      "cell_type": "code",
      "execution_count": 16,
      "metadata": {
        "id": "U6tP1iosan4z",
        "colab": {
          "base_uri": "https://localhost:8080/",
          "height": 423
        },
        "outputId": "bfa153b8-5362-413d-d4fa-fcaaca305141"
      },
      "outputs": [
        {
          "output_type": "execute_result",
          "data": {
            "text/plain": [
              "           PC1        PC2        PC3  Y\n",
              "0   -13.846035  -3.141500   0.613399  9\n",
              "1    13.780054   8.119654   0.862397  0\n",
              "2    -4.080987 -20.163169   3.500197  5\n",
              "3     4.344533   0.808241   0.798103  8\n",
              "4    21.412902  19.844596   2.671777  0\n",
              "..         ...        ...        ... ..\n",
              "495 -15.474355  14.827386  15.150631  8\n",
              "496  15.882331  -7.399204  -0.242508  1\n",
              "497  17.635419  -4.399037  -2.055428  1\n",
              "498  -1.278803   5.368785   2.747443  8\n",
              "499 -18.392555   8.363912  -7.113802  9\n",
              "\n",
              "[500 rows x 4 columns]"
            ],
            "text/html": [
              "\n",
              "  <div id=\"df-8ba13bd7-d4b1-48f6-90ba-5206e8169041\">\n",
              "    <div class=\"colab-df-container\">\n",
              "      <div>\n",
              "<style scoped>\n",
              "    .dataframe tbody tr th:only-of-type {\n",
              "        vertical-align: middle;\n",
              "    }\n",
              "\n",
              "    .dataframe tbody tr th {\n",
              "        vertical-align: top;\n",
              "    }\n",
              "\n",
              "    .dataframe thead th {\n",
              "        text-align: right;\n",
              "    }\n",
              "</style>\n",
              "<table border=\"1\" class=\"dataframe\">\n",
              "  <thead>\n",
              "    <tr style=\"text-align: right;\">\n",
              "      <th></th>\n",
              "      <th>PC1</th>\n",
              "      <th>PC2</th>\n",
              "      <th>PC3</th>\n",
              "      <th>Y</th>\n",
              "    </tr>\n",
              "  </thead>\n",
              "  <tbody>\n",
              "    <tr>\n",
              "      <th>0</th>\n",
              "      <td>-13.846035</td>\n",
              "      <td>-3.141500</td>\n",
              "      <td>0.613399</td>\n",
              "      <td>9</td>\n",
              "    </tr>\n",
              "    <tr>\n",
              "      <th>1</th>\n",
              "      <td>13.780054</td>\n",
              "      <td>8.119654</td>\n",
              "      <td>0.862397</td>\n",
              "      <td>0</td>\n",
              "    </tr>\n",
              "    <tr>\n",
              "      <th>2</th>\n",
              "      <td>-4.080987</td>\n",
              "      <td>-20.163169</td>\n",
              "      <td>3.500197</td>\n",
              "      <td>5</td>\n",
              "    </tr>\n",
              "    <tr>\n",
              "      <th>3</th>\n",
              "      <td>4.344533</td>\n",
              "      <td>0.808241</td>\n",
              "      <td>0.798103</td>\n",
              "      <td>8</td>\n",
              "    </tr>\n",
              "    <tr>\n",
              "      <th>4</th>\n",
              "      <td>21.412902</td>\n",
              "      <td>19.844596</td>\n",
              "      <td>2.671777</td>\n",
              "      <td>0</td>\n",
              "    </tr>\n",
              "    <tr>\n",
              "      <th>...</th>\n",
              "      <td>...</td>\n",
              "      <td>...</td>\n",
              "      <td>...</td>\n",
              "      <td>...</td>\n",
              "    </tr>\n",
              "    <tr>\n",
              "      <th>495</th>\n",
              "      <td>-15.474355</td>\n",
              "      <td>14.827386</td>\n",
              "      <td>15.150631</td>\n",
              "      <td>8</td>\n",
              "    </tr>\n",
              "    <tr>\n",
              "      <th>496</th>\n",
              "      <td>15.882331</td>\n",
              "      <td>-7.399204</td>\n",
              "      <td>-0.242508</td>\n",
              "      <td>1</td>\n",
              "    </tr>\n",
              "    <tr>\n",
              "      <th>497</th>\n",
              "      <td>17.635419</td>\n",
              "      <td>-4.399037</td>\n",
              "      <td>-2.055428</td>\n",
              "      <td>1</td>\n",
              "    </tr>\n",
              "    <tr>\n",
              "      <th>498</th>\n",
              "      <td>-1.278803</td>\n",
              "      <td>5.368785</td>\n",
              "      <td>2.747443</td>\n",
              "      <td>8</td>\n",
              "    </tr>\n",
              "    <tr>\n",
              "      <th>499</th>\n",
              "      <td>-18.392555</td>\n",
              "      <td>8.363912</td>\n",
              "      <td>-7.113802</td>\n",
              "      <td>9</td>\n",
              "    </tr>\n",
              "  </tbody>\n",
              "</table>\n",
              "<p>500 rows × 4 columns</p>\n",
              "</div>\n",
              "      <button class=\"colab-df-convert\" onclick=\"convertToInteractive('df-8ba13bd7-d4b1-48f6-90ba-5206e8169041')\"\n",
              "              title=\"Convert this dataframe to an interactive table.\"\n",
              "              style=\"display:none;\">\n",
              "        \n",
              "  <svg xmlns=\"http://www.w3.org/2000/svg\" height=\"24px\"viewBox=\"0 0 24 24\"\n",
              "       width=\"24px\">\n",
              "    <path d=\"M0 0h24v24H0V0z\" fill=\"none\"/>\n",
              "    <path d=\"M18.56 5.44l.94 2.06.94-2.06 2.06-.94-2.06-.94-.94-2.06-.94 2.06-2.06.94zm-11 1L8.5 8.5l.94-2.06 2.06-.94-2.06-.94L8.5 2.5l-.94 2.06-2.06.94zm10 10l.94 2.06.94-2.06 2.06-.94-2.06-.94-.94-2.06-.94 2.06-2.06.94z\"/><path d=\"M17.41 7.96l-1.37-1.37c-.4-.4-.92-.59-1.43-.59-.52 0-1.04.2-1.43.59L10.3 9.45l-7.72 7.72c-.78.78-.78 2.05 0 2.83L4 21.41c.39.39.9.59 1.41.59.51 0 1.02-.2 1.41-.59l7.78-7.78 2.81-2.81c.8-.78.8-2.07 0-2.86zM5.41 20L4 18.59l7.72-7.72 1.47 1.35L5.41 20z\"/>\n",
              "  </svg>\n",
              "      </button>\n",
              "      \n",
              "  <style>\n",
              "    .colab-df-container {\n",
              "      display:flex;\n",
              "      flex-wrap:wrap;\n",
              "      gap: 12px;\n",
              "    }\n",
              "\n",
              "    .colab-df-convert {\n",
              "      background-color: #E8F0FE;\n",
              "      border: none;\n",
              "      border-radius: 50%;\n",
              "      cursor: pointer;\n",
              "      display: none;\n",
              "      fill: #1967D2;\n",
              "      height: 32px;\n",
              "      padding: 0 0 0 0;\n",
              "      width: 32px;\n",
              "    }\n",
              "\n",
              "    .colab-df-convert:hover {\n",
              "      background-color: #E2EBFA;\n",
              "      box-shadow: 0px 1px 2px rgba(60, 64, 67, 0.3), 0px 1px 3px 1px rgba(60, 64, 67, 0.15);\n",
              "      fill: #174EA6;\n",
              "    }\n",
              "\n",
              "    [theme=dark] .colab-df-convert {\n",
              "      background-color: #3B4455;\n",
              "      fill: #D2E3FC;\n",
              "    }\n",
              "\n",
              "    [theme=dark] .colab-df-convert:hover {\n",
              "      background-color: #434B5C;\n",
              "      box-shadow: 0px 1px 3px 1px rgba(0, 0, 0, 0.15);\n",
              "      filter: drop-shadow(0px 1px 2px rgba(0, 0, 0, 0.3));\n",
              "      fill: #FFFFFF;\n",
              "    }\n",
              "  </style>\n",
              "\n",
              "      <script>\n",
              "        const buttonEl =\n",
              "          document.querySelector('#df-8ba13bd7-d4b1-48f6-90ba-5206e8169041 button.colab-df-convert');\n",
              "        buttonEl.style.display =\n",
              "          google.colab.kernel.accessAllowed ? 'block' : 'none';\n",
              "\n",
              "        async function convertToInteractive(key) {\n",
              "          const element = document.querySelector('#df-8ba13bd7-d4b1-48f6-90ba-5206e8169041');\n",
              "          const dataTable =\n",
              "            await google.colab.kernel.invokeFunction('convertToInteractive',\n",
              "                                                     [key], {});\n",
              "          if (!dataTable) return;\n",
              "\n",
              "          const docLinkHtml = 'Like what you see? Visit the ' +\n",
              "            '<a target=\"_blank\" href=https://colab.research.google.com/notebooks/data_table.ipynb>data table notebook</a>'\n",
              "            + ' to learn more about interactive tables.';\n",
              "          element.innerHTML = '';\n",
              "          dataTable['output_type'] = 'display_data';\n",
              "          await google.colab.output.renderOutput(dataTable, element);\n",
              "          const docLink = document.createElement('div');\n",
              "          docLink.innerHTML = docLinkHtml;\n",
              "          element.appendChild(docLink);\n",
              "        }\n",
              "      </script>\n",
              "    </div>\n",
              "  </div>\n",
              "  "
            ]
          },
          "metadata": {},
          "execution_count": 16
        }
      ],
      "source": [
        "# Code Here\n",
        "projected_3 = X_scaled.dot(eig_vectors[ : ,2])\n",
        "\n",
        "##\n",
        "res3d = pd.DataFrame(projected_1, columns=['PC1'])\n",
        "res3d['PC2'] = projected_2\n",
        "res3d['PC3'] = projected_3\n",
        "res3d['Y'] = labels\n",
        "res3d = res3d.head(500)\n",
        "res3d"
      ]
    },
    {
      "cell_type": "code",
      "execution_count": 17,
      "metadata": {
        "id": "v7DzWsUTc-MX",
        "scrolled": true,
        "colab": {
          "base_uri": "https://localhost:8080/",
          "height": 321
        },
        "outputId": "2e4e0d2c-1b84-4a6e-a4dc-531258c272d9"
      },
      "outputs": [
        {
          "output_type": "execute_result",
          "data": {
            "text/plain": [
              "<matplotlib.legend.Legend at 0x7f15254a0820>"
            ]
          },
          "metadata": {},
          "execution_count": 17
        },
        {
          "output_type": "display_data",
          "data": {
            "text/plain": [
              "<Figure size 360x360 with 1 Axes>"
            ],
            "image/png": "[encoded data removed]"
          },
          "metadata": {
            "needs_background": "light"
          }
        }
      ],
      "source": [
        "fig = plt.figure(figsize=(5,5))\n",
        "ax = fig.add_subplot(projection='3d')\n",
        "\n",
        "for label in selected_labels:\n",
        "    label_name = classes[label]\n",
        "    coords = res3d[res3d['Y']==label]\n",
        "    x = coords['PC1'].values\n",
        "    y = coords['PC2'].values\n",
        "    z = coords['PC3'].values\n",
        "    ax.scatter3D(x, y, z, label=label_name)\n",
        "    \n",
        "ax.set_xlabel('Principal Component 1')\n",
        "ax.set_ylabel('Principal Component 2')\n",
        "ax.set_zlabel('Principal Component 3')\n",
        "ax.legend()"
      ]
    },
    {
      "cell_type": "markdown",
      "metadata": {
        "id": "LEyMxcO1dLGa"
      },
      "source": [
        "# Reconstruction from Principal Component\n",
        "## Reduction/Compression Phase:\n",
        "<img src=\"https://i.stack.imgur.com/CKI4U.png\" alt=\"drawing\" style=\"width:200px;\"/>\n",
        "\n",
        "Above is the general form of vector on vector projection formula, in order to reconstruct our image we need to find the projection of our X_scaled ($a$) on each of the reduced_eigen_space vectors ($v$) (Note that our calculated eigen vectors are unit vectors, therefore, the denominator equals to one).\n",
        "\n",
        "Determine the number of eigen vectors needed to project image on, such that images can still be recognizable. Note that this number should NOT be accurate and something approximate is enough (don't message TAs about the accuracy :)) )."
      ]
    },
    {
      "cell_type": "code",
      "execution_count": 18,
      "metadata": {
        "id": "gTfS3AAjR4vw",
        "colab": {
          "base_uri": "https://localhost:8080/"
        },
        "outputId": "cc453e78-fa65-4c1e-ccb6-23341a197e3e"
      },
      "outputs": [
        {
          "output_type": "stream",
          "name": "stdout",
          "text": [
            "252\n"
          ]
        }
      ],
      "source": [
        "# Code Here\n",
        "index = 0\n",
        "for i in range(len(eig_values)):\n",
        "    exp_var = np.sum(eig_values[:i+1])*100 / np.sum(eig_values)\n",
        "    if exp_var >= 95:\n",
        "        break;\n",
        "    index += 1\n",
        "number_of_eigen_vectors = index + 1\n",
        "print(number_of_eigen_vectors)\n",
        "##\n",
        "reduced_eigen_space = eig_vectors[:, :number_of_eigen_vectors]"
      ]
    },
    {
      "cell_type": "code",
      "execution_count": 19,
      "metadata": {
        "id": "-JIB7T-wR4vw",
        "colab": {
          "base_uri": "https://localhost:8080/"
        },
        "outputId": "aa59600a-4c65-41a9-9c89-b82f43fc54a7"
      },
      "outputs": [
        {
          "output_type": "stream",
          "name": "stdout",
          "text": [
            "Shape of X_scaled: (30000, 784)\n",
            "Shape of reduced_eigen_space: (784, 252)\n",
            "Shape of X_compressed: (30000, 252)\n"
          ]
        }
      ],
      "source": [
        "# Code Here\n",
        "X_compressed = X_scaled.dot(reduced_eigen_space)\n",
        "\n",
        "##\n",
        "\n",
        "assert X_compressed.shape == (X_scaled.shape[0], number_of_eigen_vectors), \"shape of X_compresed is wrong\"\n",
        "\n",
        "print(f'Shape of X_scaled: {X_scaled.shape}')\n",
        "print(f'Shape of reduced_eigen_space: {reduced_eigen_space.shape}')\n",
        "print(f'Shape of X_compressed: {X_compressed.shape}')"
      ]
    },
    {
      "cell_type": "markdown",
      "metadata": {
        "id": "NTKys0rcR4vx"
      },
      "source": [
        "## Reconstrunction Phase:"
      ]
    },
    {
      "cell_type": "code",
      "execution_count": 20,
      "metadata": {
        "id": "ljqG8LQTR4vx",
        "colab": {
          "base_uri": "https://localhost:8080/"
        },
        "outputId": "2b560c8b-7311-4011-f0f1-39406bbd3cc9"
      },
      "outputs": [
        {
          "output_type": "stream",
          "name": "stdout",
          "text": [
            "Shape of X_compressed: (30000, 252)\n",
            "Shape of reduced_eigen_space: (784, 252)\n",
            "Shape of X_reconstructed: (30000, 784)\n"
          ]
        }
      ],
      "source": [
        "# Code Here\n",
        "X_reconstructed = X_compressed.dot(reduced_eigen_space.T)                # Reconstructed data\n",
        "data_reconstructed = X_reconstructed * std_ + mean_             # De-standardized data\n",
        "\n",
        "##\n",
        "\n",
        "reconstructed_images = np.reshape(data_reconstructed, (-1, 28, 28))\n",
        "\n",
        "print(f'Shape of X_compressed: {X_compressed.shape}')\n",
        "print(f'Shape of reduced_eigen_space: {reduced_eigen_space.shape}')\n",
        "print(f'Shape of X_reconstructed: {X_reconstructed.shape}')\n",
        "\n",
        "rec_index = 0"
      ]
    },
    {
      "cell_type": "code",
      "execution_count": 21,
      "metadata": {
        "id": "Wl1Cv-HLR4vx",
        "colab": {
          "base_uri": "https://localhost:8080/",
          "height": 199
        },
        "outputId": "e66a48b0-12ab-4c5c-d0e0-c5ebd1273179"
      },
      "outputs": [
        {
          "output_type": "display_data",
          "data": {
            "text/plain": [
              "<Figure size 432x288 with 2 Axes>"
            ],
            "image/png": "[encoded data removed]"
          },
          "metadata": {
            "needs_background": "light"
          }
        }
      ],
      "source": [
        "\n",
        "\n",
        "f = plt.figure()\n",
        "ax1 = f.add_subplot(1,2,1)\n",
        "plt.imshow(images[rec_index].squeeze(), cmap = 'gray')\n",
        "ax1.axis(False)\n",
        "ax2 = f.add_subplot(1,2,2)\n",
        "ax2.axis(False)\n",
        "plt.imshow(reconstructed_images[rec_index].squeeze(), cmap = 'gray')\n",
        "ax1.title.set_text('Original')\n",
        "ax2.title.set_text('Reconstructed after Compression')\n",
        "plt.show(block=True)\n",
        "rec_index +=1\n"
      ]
    }
  ],
  "metadata": {
    "colab": {
      "toc_visible": true,
      "provenance": [],
      "include_colab_link": true
    },
    "kernelspec": {
      "display_name": "Python 3",
      "language": "python",
      "name": "python3"
    },
    "language_info": {
      "codemirror_mode": {
        "name": "ipython",
        "version": 3
      },
      "file_extension": ".py",
      "mimetype": "text/x-python",
      "name": "python",
      "nbconvert_exporter": "python",
      "pygments_lexer": "ipython3",
      "version": "3.10.8 (tags/v3.10.8:aaaf517, Oct 11 2022, 16:50:30) [MSC v.1933 64 bit (AMD64)]"
    },
    "vscode": {
      "interpreter": {
        "hash": "8848db57d6de7be7efa3af564b180776d4c97d4852b86ca969fd58f9e4add6e3"
      }
    },
    "gpuClass": "standard"
  },
  "nbformat": 4,
  "nbformat_minor": 0
}