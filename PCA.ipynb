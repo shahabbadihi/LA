{
  "cells": [
    {
      "cell_type": "markdown",
      "metadata": {
        "id": "view-in-github",
        "colab_type": "text"
      },
      "source": [
        "<a href=\"https://colab.research.google.com/github/shahabbadihi/LA/blob/master/PCA.ipynb\" target=\"_parent\"><img src=\"https://colab.research.google.com/assets/colab-badge.svg\" alt=\"Open In Colab\"/></a>"
      ]
    },
    {
      "cell_type": "code",
      "execution_count": 2,
      "metadata": {
        "id": "vN-Ryg446J28",
        "colab": {
          "base_uri": "https://localhost:8080/"
        },
        "outputId": "0d421abf-fedf-4996-a2a9-054ed9a0c552"
      },
      "outputs": [
        {
          "output_type": "stream",
          "name": "stdout",
          "text": [
            "Looking in indexes: https://pypi.org/simple, https://us-python.pkg.dev/colab-wheels/public/simple/\n",
            "Requirement already satisfied: sympy in /usr/local/lib/python3.8/dist-packages (1.7.1)\n",
            "Requirement already satisfied: mpmath>=0.19 in /usr/local/lib/python3.8/dist-packages (from sympy) (1.2.1)\n"
          ]
        }
      ],
      "source": [
        "import matplotlib.pyplot as plt\n",
        "from mpl_toolkits.mplot3d import axes3d\n",
        "!pip install sympy\n",
        "\n",
        "from IPython.display import clear_output\n",
        "\n",
        "import pandas as pd\n",
        "import numpy as np\n",
        "classes = {0:'T-shirt/top',\n",
        "           1:'Trouser', \n",
        "           2: 'Pullover', \n",
        "           3: 'Dress', \n",
        "           4: 'Coat',\n",
        "           5: 'Sandal',\n",
        "           6: 'Shirt',\n",
        "           7: 'Sneaker',\n",
        "           8: 'Bag', \n",
        "           9: 'Ankle Boot'}"
      ]
    },
    {
      "cell_type": "code",
      "execution_count": 3,
      "metadata": {
        "colab": {
          "base_uri": "https://localhost:8080/"
        },
        "id": "wjSAMgjXVCx2",
        "outputId": "a9409791-1f45-43fa-a60d-77307ef2b70b"
      },
      "outputs": [
        {
          "output_type": "stream",
          "name": "stdout",
          "text": [
            "title: fashion-mnist_train.csv, id: 1DpTxA2RvddJSjlNbJZ8wkvuxCzX8PuIw\n",
            "downloading to /root/data/fashion-mnist_train.csv\n",
            "title: fashion-mnist_test.csv, id: 1lJhwE7YwOoJNYVaoFpBlFqhTVfDVxvmH\n",
            "downloading to /root/data/fashion-mnist_test.csv\n"
          ]
        }
      ],
      "source": [
        "# Code to read csv file into Colaboratory:\n",
        "!pip install -U -q PyDrive\n",
        "# !pip install -U featuretools\n",
        "import os\n",
        "from pydrive.auth import GoogleAuth\n",
        "from pydrive.drive import GoogleDrive\n",
        "from google.colab import auth\n",
        "from oauth2client.client import GoogleCredentials\n",
        "# Authenticate and create the PyDrive client.\n",
        "auth.authenticate_user()\n",
        "gauth = GoogleAuth()\n",
        "gauth.credentials = GoogleCredentials.get_application_default()\n",
        "drive = GoogleDrive(gauth)\n",
        "\n",
        "\n",
        "\n",
        "local_download_path = os.path.expanduser('~/data')\n",
        "try:\n",
        "  os.makedirs(local_download_path)\n",
        "except: pass\n",
        "\n",
        "file_list = drive.ListFile(\n",
        "    {'q': \"'1cd_Yphr1FrXcUhU2nLCVQ6H_DHaCOtCb' in parents\"}).GetList()\n",
        "\n",
        "for f in file_list:\n",
        "  # 3. Create & download by id.\n",
        "  print('title: %s, id: %s' % (f['title'], f['id']))\n",
        "  fname = os.path.join(local_download_path, f['title'])\n",
        "  print('downloading to {}'.format(fname))\n",
        "  f_ = drive.CreateFile({'id': f['id']})\n",
        "  f_.GetContentFile(fname)\n",
        "\n",
        "# with open(fname, 'r') as f:\n",
        "#   print(f.read())"
      ]
    },
    {
      "cell_type": "code",
      "execution_count": 4,
      "metadata": {
        "id": "Q6ntYlmzZSj-"
      },
      "outputs": [],
      "source": [
        "selected_labels = [0, 1, 5, 8, 9]\n",
        "\n",
        "#data = pd.read_csv('fashion_MNIST/fashion-mnist_train.csv')\n",
        "data = pd.read_csv('/root/data/fashion-mnist_train.csv')\n",
        "#print(data.columns.tolist())\n",
        "data = data.loc[data['label'].isin(selected_labels)].reset_index(drop=True)\n",
        "\n",
        "# print(data)\n",
        "labels = data.pop('label')\n",
        "# print(labels)\n",
        "# print(labels[0])\n",
        "# print(type(labels))\n",
        "index = 0\n",
        "data = data.values\n",
        "\n",
        "images = np.reshape(data, (-1, 28, 28))\n",
        "\n",
        "# print(images[0][0])\n",
        "# print(images[0][0].shape)"
      ]
    },
    {
      "cell_type": "code",
      "execution_count": 5,
      "metadata": {
        "id": "g5tq50hY9VDC",
        "colab": {
          "base_uri": "https://localhost:8080/",
          "height": 281
        },
        "outputId": "b199168f-4abc-4503-9a78-36507334d6ee"
      },
      "outputs": [
        {
          "output_type": "display_data",
          "data": {
            "text/plain": [
              "<Figure size 432x288 with 1 Axes>"
            ],
            "image/png": "[encoded data removed]"
          },
          "metadata": {
            "needs_background": "light"
          }
        }
      ],
      "source": [
        "import matplotlib.pyplot as plt\n",
        "# print(len(images))\n",
        "\n",
        "plt.imshow(images[index].squeeze(), cmap = 'gray')\n",
        "# plt.imshow(images[index].squeeze())\n",
        "plt.title(classes[labels[index]])\n",
        "# plt.axis('off')\n",
        "plt.show()\n",
        "\n",
        "# index += 1\n",
        "index = 0"
      ]
    },
    {
      "cell_type": "markdown",
      "metadata": {
        "id": "nKIUXlHr6Y2y"
      },
      "source": [
        "# PCA step by step\n",
        "Here is the short summary of the required steps:\n",
        "* **Scale the data** — we don’t want some feature to be voted as “more important” due to scale differences. 10m = 10000mm, but the algorithm isn’t aware of meters and millimeters\n",
        "* **Calculate covariance matrix** — square matrix giving the covariances between each pair of elements of a random vector\n",
        "* **Eigen Decomposition**\n"
      ]
    },
    {
      "cell_type": "markdown",
      "metadata": {
        "id": "n8RcNVgJ-CYH"
      },
      "source": [
        "# Scale the Data:\n",
        "Standardize features. to do so, use this formula: $$z = \\frac{(x - \\mu)}{\\sigma}$$\n",
        "where $\\mu$ is mean and $\\sigma$ is standard deviation."
      ]
    },
    {
      "cell_type": "code",
      "execution_count": 6,
      "metadata": {
        "id": "nzK7sJOO994k",
        "colab": {
          "base_uri": "https://localhost:8080/"
        },
        "outputId": "757529b8-3abd-4dce-be0f-083e2199443d"
      },
      "outputs": [
        {
          "output_type": "stream",
          "name": "stdout",
          "text": [
            "int64\n",
            "float64\n",
            "[[-0.01026584 -0.02366167 -0.02911894 ... -0.14989371 -0.10631384\n",
            "  -0.03827965]\n",
            " [-0.01026584 -0.02366167 -0.02911894 ... -0.14989371 -0.10631384\n",
            "  -0.03827965]\n",
            " [-0.01026584 -0.02366167 -0.02911894 ... -0.14989371 -0.10631384\n",
            "  -0.03827965]\n",
            " ...\n",
            " [-0.01026584 -0.02366167 -0.02911894 ... -0.14989371 -0.10631384\n",
            "  -0.03827965]\n",
            " [-0.01026584 -0.02366167 -0.02911894 ... -0.14989371 -0.10631384\n",
            "  -0.03827965]\n",
            " [-0.01026584 -0.02366167 -0.02911894 ... -0.14989371 -0.10631384\n",
            "  -0.03827965]]\n"
          ]
        }
      ],
      "source": [
        "# Code Here #####(DONE!)#####\n",
        "\n",
        "print(data.dtype)\n",
        "# mean_ = [np.mean(data[:, i]) for i in range(data.shape[1])]\n",
        "mean_ = np.mean(data, axis=0, dtype=np.double)\n",
        "print(mean_.dtype)\n",
        "# arr = np.array([[1, 2, 3], [4, 5, 6]])\n",
        "# mean = np.mean(arr, axis=0)\n",
        "\n",
        "# print(data.shape)\n",
        "# print(data[:, -1][np.nonzero(data[:, -1])].sum())\n",
        "# print(data.shape)\n",
        "\n",
        "# print(mean_[0])\n",
        "\n",
        "# print(mean_2)\n",
        "#\n",
        "#\n",
        "std_ = np.std(data, axis=0, dtype=np.double)\n",
        "# print(std_[0])\n",
        "\n",
        "# print(data[0, 0])\n",
        "\n",
        "# for i in range(data.shape[0]):\n",
        "#     for j in range(data.shape[1]):\n",
        "#         X_scaled[i, j] = \n",
        "\n",
        "X_scaled = (data - mean_) / std_\n",
        "# X_scaled = np.array(X_scaled, dtype='float32')\n",
        "# print(data)\n",
        "print(X_scaled)\n",
        "\n",
        "# X_scaled = []"
      ]
    },
    {
      "cell_type": "code",
      "source": [
        "# print(data[0])\n",
        "# print(mean_[9 * 18 - 3 - 1])\n",
        "# print(std_[9 * 18 - 3 - 1])\n",
        "k = 400\n",
        "print(data[0, k])\n",
        "print(data[1, k])\n",
        "print(X_scaled[0, k])\n",
        "print(X_scaled[1, k])\n"
      ],
      "metadata": {
        "colab": {
          "base_uri": "https://localhost:8080/"
        },
        "id": "eNu7xkYGO4UG",
        "outputId": "bfadeef3-eb86-4f12-fb7d-906132945931"
      },
      "execution_count": 7,
      "outputs": [
        {
          "output_type": "stream",
          "name": "stdout",
          "text": [
            "0\n",
            "187\n",
            "-0.9354492959446633\n",
            "1.1730412239507135\n"
          ]
        }
      ]
    },
    {
      "cell_type": "markdown",
      "metadata": {
        "id": "kuxGHdSxPqqB"
      },
      "source": [
        "# Calculate Covariance Matrix:\n",
        "Let’s take a step back here and understand the difference between variance and covariance. Variance reports variation of a single random variable — let’s say the weight of a person, and covariance reports how much two random variables vary — like weight and height of a person.\n",
        "On the diagonal of the covariance matrix we have variances, and other elements are the covariances.\n",
        "\n",
        "For further information about covariance visit [wikipedia](https://en.wikipedia.org/wiki/Covariance)."
      ]
    },
    {
      "cell_type": "code",
      "execution_count": 8,
      "metadata": {
        "id": "vUr1Jk68-Mwc",
        "colab": {
          "base_uri": "https://localhost:8080/"
        },
        "outputId": "b03a2044-e762-4d0a-d3d7-9c5bddf0ae34"
      },
      "outputs": [
        {
          "output_type": "stream",
          "name": "stdout",
          "text": [
            "[[1.         0.10344529 0.02532367 0.02635456 0.02597683]\n",
            " [0.10344529 1.         0.6794662  0.16289345 0.0536698 ]\n",
            " [0.02532367 0.6794662  1.         0.29367225 0.03539502]\n",
            " [0.02635456 0.16289345 0.29367225 1.         0.55368463]\n",
            " [0.02597683 0.0536698  0.03539502 0.55368463 1.        ]]\n"
          ]
        }
      ],
      "source": [
        "# CODE Here #####(DONE!)#####\n",
        "# using built-in functions like np.cov is NOT allowed\n",
        "\n",
        "A = X_scaled - np.mean(X_scaled, axis=0)\n",
        "\n",
        "########## by multiplication A_transpose in A\n",
        "A_transpose = A.T\n",
        "cov_matrix = np.matmul(A_transpose, A)\n",
        "cov_matrix /= A.shape[0]\n",
        "########## OR\n",
        "cov_matrix = np.zeros(shape=(A.shape[1], A.shape[1]), dtype=np.double)\n",
        "for i in range(A.shape[1]):\n",
        "    for j in range(i, A.shape[1]):\n",
        "        cov_matrix[i, j] = cov_matrix[j, i] = A[:, i] @ A[:, j]\n",
        "cov_matrix /= A.shape[0]\n",
        "\n",
        "##\n",
        "\n",
        "assert cov_matrix.shape == (784,784) , \"covariance matrix shape should be 784 * 784\"\n",
        "\n",
        "print(cov_matrix[0:5, 0:5])"
      ]
    },
    {
      "cell_type": "markdown",
      "metadata": {
        "id": "AE5beK2BQhdo"
      },
      "source": [
        "As you can see, the diagonal elements are identical, and the matrix is symmetrical. Up next, eigendecomposition."
      ]
    },
    {
      "cell_type": "markdown",
      "metadata": {
        "id": "rSf2ECtuQt1G"
      },
      "source": [
        "# Eigendecomposition\n",
        "`Eigendecomposition is a process that decomposes a square matrix into eigenvectors and eigenvalues.` <font color='red'>Eigenvectors are simple unit vectors</font>, and <font color='green'>eigenvalues are coefficients which give the magnitude to the eigenvectors. </font>\n",
        "\n",
        "We know so far that our `covariance matrix is symmetrical.` As it turns out, `eigenvectors of symmetric matrices are orthogonal.` For PCA this means that we have the first principal component which explains most of the variance. Orthogonal to that is the second principal component, which explains most of the remaining variance. This is repeated for N number of principal components, where N equals to number of original features.\n",
        "\n",
        "And this turns out to be neat for us — principal components are sorted by percentage of variance explained, as we can decide how many should we keep. For example, if we have 100 features originally, but the first 3 principal components explain 95% of the variance, then it makes sense to keep only these 3 for visualizations and model training.\n"
      ]
    },
    {
      "cell_type": "code",
      "execution_count": 15,
      "metadata": {
        "id": "T7UUzou8O7wi",
        "colab": {
          "base_uri": "https://localhost:8080/"
        },
        "outputId": "0df06a99-6574-4d32-e961-e71adf880332"
      },
      "outputs": [
        {
          "output_type": "stream",
          "name": "stdout",
          "text": [
            "First 10 eigenvalues: [153.06089638 134.58065215  53.62445879  45.8337029   35.94673788\n",
            "  27.17131546  16.1684106   11.26287602   9.89927745   8.76852687]\n",
            "\n",
            "\n",
            "Last 10 eigenvalues: [0.00828857 0.00803598 0.0077789  0.00706423 0.00676036 0.00665371\n",
            " 0.00618769 0.0057158  0.00547373 0.00451606]\n"
          ]
        }
      ],
      "source": [
        "# Code Here\n",
        "# Implementing the functions to return eigen vectors and values are optional and have extra score.\n",
        "from numpy import linalg as LA\n",
        "import sympy as sp\n",
        "import time\n",
        "\n",
        "def calc_symbolic_determinant(matrix, n):\n",
        "    eig_symbol = sp.symbols('lambda')\n",
        "    # xarr = range(-n//2, n//2 + 1)\n",
        "    xarr = np.linspace(0, 1, n+1, endpoint=True)\n",
        "    \n",
        "    g_func = sp.lambdify((eig_symbol), matrix, modules='numpy')\n",
        "    yarr = []\n",
        "    # for x in xarr:\n",
        "        # yarr.append(LA.slogdet(g_func(x)))\n",
        "\n",
        "\n",
        "    # yarr = [LA.slogdet(g_func(x)) for x in xarr]\n",
        "    # for i in range(len(yarr)):\n",
        "    #     yarr[i] = yarr[i][0] * np.exp(yarr[i][1], dtype='float128')\n",
        "\n",
        "    yarr = [LA.det(g_func(x)) for x in xarr]\n",
        "\n",
        "\n",
        "    print(yarr)\n",
        "    poly = sp.expand(sp.interpolating_poly(len(xarr), eig_symbol, xarr, yarr))\n",
        "    return poly\n",
        "\n",
        "def calc_eigenvalues(matrix, n):\n",
        "    matrix = sp.Matrix(matrix)\n",
        "    I = sp.eye(n)\n",
        "    eig_symbol = sp.symbols('lambda')\n",
        "    matrix = matrix - eig_symbol * I\n",
        "    expr_for_eig_values = calc_symbolic_determinant(matrix, n)\n",
        "    print(expr_for_eig_values)\n",
        "    # expr_for_eig_values = matrix.charpoly().as_expr()\n",
        "    eq = sp.Eq(expr_for_eig_values, 0)\n",
        "    eig_values = sp.solve(eq)\n",
        "    return eig_values\n",
        "\n",
        "    # print(det)\n",
        "    # print(I)\n",
        "    # print(eig_values)\n",
        "    # print(matrix)\n",
        "    # print(type(matrix))\n",
        "\n",
        "####### JUST EXAMPLE!!!\n",
        "# mat = np.array([[1, 2], [4, 5]])\n",
        "\n",
        "# start = time.time()\n",
        "# print(calc_eigenvalues(cov_matrix, cov_matrix.shape[0]))\n",
        "# print(calc_eigenvalues(mat, mat.shape[0]))\n",
        "# print(str(time.time() - start))\n",
        "\n",
        "# print(type(mat))\n",
        "\n",
        "# mat = np.array([[1, 2, 3], [4, 5, 6], [7, 8, 9]])\n",
        "# mat = sp.Matrix(mat)\n",
        "# mat = np.array(mat, dtype=np.double)\n",
        "# mat = np.zeros((1000, 1000))\n",
        "# print(mat)\n",
        "\n",
        "\n",
        "# start = time.time()\n",
        "# cov_matrix = sp.Matrix(cov_matrix)\n",
        "# g_func = sp.lambdify((), cov_matrix, modules='numpy')\n",
        "# cov_matrix = g_func()\n",
        "# for i in range(784):\n",
        "  # print(LA.slogdet(cov_matrix))\n",
        "# print(str(time.time() - start))\n",
        "\n",
        "# a = []\n",
        "# for i in range(10):\n",
        "#     a.append(LA.slogdet(cov_matrix))\n",
        "# def func(sign, expp):\n",
        "#     return sign * np.exp(expp, dtype=np.double)\n",
        "# print(a[0])\n",
        "# for i in range(len(a)):\n",
        "#     a[i] = a[i][0] * np.exp(a[i][1])\n",
        "# print(a)\n",
        "\n",
        "\n",
        "\n",
        "eig_values, eig_vectors = LA.eig(cov_matrix)\n",
        "idx = eig_values.argsort()[::-1]\n",
        "eig_values = eig_values[idx]\n",
        "eig_vectors = eig_vectors[:,idx]\n",
        "# print(eig_values, eig_vectors)\n",
        "##\n",
        "\n",
        "\n",
        "print(f'First 10 eigenvalues: {eig_values[:10]}')\n",
        "print(f'\\n\\nLast 10 eigenvalues: {eig_values[-10:]}')"
      ]
    },
    {
      "cell_type": "code",
      "execution_count": 16,
      "metadata": {
        "id": "R8gds64QRU-A",
        "scrolled": true,
        "colab": {
          "base_uri": "https://localhost:8080/",
          "height": 280
        },
        "outputId": "ff6ccee5-92d0-4fba-dd7f-61f3e2769d5a"
      },
      "outputs": [
        {
          "output_type": "stream",
          "name": "stderr",
          "text": [
            "<ipython-input-16-3c8922d7a9e0>:2: UserWarning: In Matplotlib 3.3 individual lines on a stem plot will be added as a LineCollection instead of individual lines. This significantly improves the performance of a stem plot. To remove this warning and switch to the new behaviour, set the \"use_line_collection\" keyword argument to True.\n",
            "  plt.stem(eig_values[:200])\n"
          ]
        },
        {
          "output_type": "display_data",
          "data": {
            "text/plain": [
              "<Figure size 360x216 with 1 Axes>"
            ],
            "image/png": "[encoded data removed]"
          },
          "metadata": {
            "needs_background": "light"
          }
        }
      ],
      "source": [
        "plt.figure(figsize=(5,3))\n",
        "plt.stem(eig_values[:200])\n",
        "plt.xlabel('Eigen value index')\n",
        "plt.ylabel('Eigen value')\n",
        "plt.show()"
      ]
    },
    {
      "cell_type": "code",
      "execution_count": 18,
      "metadata": {
        "id": "VXebdStRRWm_",
        "colab": {
          "base_uri": "https://localhost:8080/"
        },
        "outputId": "d274c128-01cf-43f0-c591-4f66d49bd991"
      },
      "outputs": [
        {
          "output_type": "stream",
          "name": "stdout",
          "text": [
            "Eigenvectors upto 1 expresses 19.523073518199496 % variance\n",
            "Eigenvectors upto 2 expresses 36.68897302741586 % variance\n",
            "Eigenvectors upto 3 expresses 43.52882746554152 % variance\n",
            "Eigenvectors upto 4 expresses 49.37496303896839 % variance\n",
            "Eigenvectors upto 5 expresses 53.960006135397556 % variance\n",
            "Eigenvectors upto 6 expresses 57.425735147930084 % variance\n",
            "Eigenvectors upto 7 expresses 59.48803241770392 % variance\n",
            "Eigenvectors upto 8 expresses 60.92462374642832 % variance\n",
            "Eigenvectors upto 9 expresses 62.187286686003844 % variance\n",
            "Eigenvectors upto 10 expresses 63.30572123534582 % variance\n",
            "Eigenvectors upto 11 expresses 64.340159217451 % variance\n",
            "Eigenvectors upto 12 expresses 65.30345377006296 % variance\n",
            "Eigenvectors upto 13 expresses 66.22157672421166 % variance\n",
            "Eigenvectors upto 14 expresses 66.99535115019917 % variance\n",
            "Eigenvectors upto 15 expresses 67.74056613252272 % variance\n",
            "Eigenvectors upto 16 expresses 68.43816735826336 % variance\n",
            "Eigenvectors upto 17 expresses 69.06144815928641 % variance\n",
            "Eigenvectors upto 18 expresses 69.65721522913013 % variance\n",
            "Eigenvectors upto 19 expresses 70.23263378314849 % variance\n",
            "Eigenvectors upto 20 expresses 70.77409539692967 % variance\n",
            "Eigenvectors upto 21 expresses 71.28998391299851 % variance\n",
            "Eigenvectors upto 22 expresses 71.77867360249287 % variance\n",
            "Eigenvectors upto 23 expresses 72.25301371878176 % variance\n",
            "Eigenvectors upto 24 expresses 72.7071532201447 % variance\n",
            "Eigenvectors upto 25 expresses 73.1504989343933 % variance\n",
            "Eigenvectors upto 26 expresses 73.57926346066203 % variance\n",
            "Eigenvectors upto 27 expresses 73.99083874980501 % variance\n",
            "Eigenvectors upto 28 expresses 74.3649947848083 % variance\n",
            "Eigenvectors upto 29 expresses 74.73228664199709 % variance\n",
            "Eigenvectors upto 30 expresses 75.09208305657283 % variance\n",
            "Eigenvectors upto 31 expresses 75.43579532969467 % variance\n",
            "Eigenvectors upto 32 expresses 75.76003634117212 % variance\n",
            "Eigenvectors upto 33 expresses 76.07692505971893 % variance\n",
            "Eigenvectors upto 34 expresses 76.39010008190411 % variance\n",
            "Eigenvectors upto 35 expresses 76.69951785965621 % variance\n",
            "Eigenvectors upto 36 expresses 76.99973490374107 % variance\n",
            "Eigenvectors upto 37 expresses 77.29743741102459 % variance\n",
            "Eigenvectors upto 38 expresses 77.57746353284107 % variance\n",
            "Eigenvectors upto 39 expresses 77.85557690851203 % variance\n",
            "Eigenvectors upto 40 expresses 78.11847151577811 % variance\n",
            "Eigenvectors upto 41 expresses 78.37460096541024 % variance\n",
            "Eigenvectors upto 42 expresses 78.62937568007641 % variance\n",
            "Eigenvectors upto 43 expresses 78.87777483330171 % variance\n",
            "Eigenvectors upto 44 expresses 79.11572208615503 % variance\n",
            "Eigenvectors upto 45 expresses 79.34999900941528 % variance\n",
            "Eigenvectors upto 46 expresses 79.57892203584004 % variance\n",
            "Eigenvectors upto 47 expresses 79.80519748448567 % variance\n",
            "Eigenvectors upto 48 expresses 80.02688232660729 % variance\n",
            "Eigenvectors upto 49 expresses 80.24170591534308 % variance\n",
            "Eigenvectors upto 50 expresses 80.45463843255446 % variance\n",
            "Eigenvectors upto 51 expresses 80.6610856111113 % variance\n",
            "Eigenvectors upto 52 expresses 80.86249284501673 % variance\n",
            "Eigenvectors upto 53 expresses 81.06125443584011 % variance\n",
            "Eigenvectors upto 54 expresses 81.25156510409522 % variance\n",
            "Eigenvectors upto 55 expresses 81.43949969033733 % variance\n",
            "Eigenvectors upto 56 expresses 81.62303601884607 % variance\n",
            "Eigenvectors upto 57 expresses 81.80346627261568 % variance\n",
            "Eigenvectors upto 58 expresses 81.98259551293374 % variance\n",
            "Eigenvectors upto 59 expresses 82.1580714647179 % variance\n",
            "Eigenvectors upto 60 expresses 82.32970856433317 % variance\n",
            "Eigenvectors upto 61 expresses 82.49512738608583 % variance\n",
            "Eigenvectors upto 62 expresses 82.65898721427409 % variance\n",
            "Eigenvectors upto 63 expresses 82.82043287885124 % variance\n",
            "Eigenvectors upto 64 expresses 82.98033615482282 % variance\n",
            "Eigenvectors upto 65 expresses 83.13693566676618 % variance\n",
            "Eigenvectors upto 66 expresses 83.29189512616544 % variance\n",
            "Eigenvectors upto 67 expresses 83.44392797509391 % variance\n",
            "Eigenvectors upto 68 expresses 83.59467704525075 % variance\n",
            "Eigenvectors upto 69 expresses 83.74185037281356 % variance\n",
            "Eigenvectors upto 70 expresses 83.88871842769689 % variance\n",
            "Eigenvectors upto 71 expresses 84.03185385046417 % variance\n",
            "Eigenvectors upto 72 expresses 84.17265034243756 % variance\n",
            "Eigenvectors upto 73 expresses 84.31171401339918 % variance\n",
            "Eigenvectors upto 74 expresses 84.44748817536443 % variance\n",
            "Eigenvectors upto 75 expresses 84.58199195122026 % variance\n",
            "Eigenvectors upto 76 expresses 84.71630025803304 % variance\n",
            "Eigenvectors upto 77 expresses 84.8468557534677 % variance\n",
            "Eigenvectors upto 78 expresses 84.97628021705381 % variance\n",
            "Eigenvectors upto 79 expresses 85.10461069554137 % variance\n",
            "Eigenvectors upto 80 expresses 85.23038207999022 % variance\n",
            "Eigenvectors upto 81 expresses 85.35423941474224 % variance\n",
            "Eigenvectors upto 82 expresses 85.4773459614617 % variance\n",
            "Eigenvectors upto 83 expresses 85.59786769401198 % variance\n",
            "Eigenvectors upto 84 expresses 85.71761267348488 % variance\n",
            "Eigenvectors upto 85 expresses 85.83427598795195 % variance\n",
            "Eigenvectors upto 86 expresses 85.94667144011595 % variance\n",
            "Eigenvectors upto 87 expresses 86.0580472906712 % variance\n",
            "Eigenvectors upto 88 expresses 86.16806024394396 % variance\n",
            "Eigenvectors upto 89 expresses 86.27677116763564 % variance\n",
            "Eigenvectors upto 90 expresses 86.3848608065302 % variance\n",
            "Eigenvectors upto 91 expresses 86.49115166923646 % variance\n",
            "Eigenvectors upto 92 expresses 86.59561189419861 % variance\n",
            "Eigenvectors upto 93 expresses 86.69849364741236 % variance\n",
            "Eigenvectors upto 94 expresses 86.80027090816799 % variance\n",
            "Eigenvectors upto 95 expresses 86.9016129698582 % variance\n",
            "Eigenvectors upto 96 expresses 87.00113630636669 % variance\n",
            "Eigenvectors upto 97 expresses 87.09951895063665 % variance\n",
            "Eigenvectors upto 98 expresses 87.19660211966992 % variance\n",
            "Eigenvectors upto 99 expresses 87.29277359021043 % variance\n",
            "Eigenvectors upto 100 expresses 87.38881789642264 % variance\n",
            "Eigenvectors upto 101 expresses 87.48236516319251 % variance\n",
            "Eigenvectors upto 102 expresses 87.5753302055165 % variance\n",
            "Eigenvectors upto 103 expresses 87.66759757589 % variance\n",
            "Eigenvectors upto 104 expresses 87.75766803159479 % variance\n",
            "Eigenvectors upto 105 expresses 87.84708182521848 % variance\n",
            "Eigenvectors upto 106 expresses 87.93534162703311 % variance\n",
            "Eigenvectors upto 107 expresses 88.02282412880487 % variance\n",
            "Eigenvectors upto 108 expresses 88.10922369152385 % variance\n",
            "Eigenvectors upto 109 expresses 88.19461142518112 % variance\n",
            "Eigenvectors upto 110 expresses 88.27926424865 % variance\n",
            "Eigenvectors upto 111 expresses 88.36321903538744 % variance\n",
            "Eigenvectors upto 112 expresses 88.44633777136917 % variance\n",
            "Eigenvectors upto 113 expresses 88.52904273581862 % variance\n",
            "Eigenvectors upto 114 expresses 88.61070291301974 % variance\n",
            "Eigenvectors upto 115 expresses 88.69122975732908 % variance\n",
            "Eigenvectors upto 116 expresses 88.77094119102678 % variance\n",
            "Eigenvectors upto 117 expresses 88.84876593579172 % variance\n",
            "Eigenvectors upto 118 expresses 88.92532319841627 % variance\n",
            "Eigenvectors upto 119 expresses 89.00149325593571 % variance\n",
            "Eigenvectors upto 120 expresses 89.0760035031771 % variance\n",
            "Eigenvectors upto 121 expresses 89.15019232784972 % variance\n",
            "Eigenvectors upto 122 expresses 89.22300947532428 % variance\n",
            "Eigenvectors upto 123 expresses 89.29436901348292 % variance\n",
            "Eigenvectors upto 124 expresses 89.36543236585453 % variance\n",
            "Eigenvectors upto 125 expresses 89.43606707849128 % variance\n",
            "Eigenvectors upto 126 expresses 89.50612896512588 % variance\n",
            "Eigenvectors upto 127 expresses 89.57571706854151 % variance\n",
            "Eigenvectors upto 128 expresses 89.64460990942082 % variance\n",
            "Eigenvectors upto 129 expresses 89.71248561995405 % variance\n",
            "Eigenvectors upto 130 expresses 89.78012422512876 % variance\n",
            "Eigenvectors upto 131 expresses 89.84705899762469 % variance\n",
            "Eigenvectors upto 132 expresses 89.91354636829506 % variance\n",
            "Eigenvectors upto 133 expresses 89.97960533928814 % variance\n",
            "Eigenvectors upto 134 expresses 90.0453600556271 % variance\n",
            "Eigenvectors upto 135 expresses 90.1103822612494 % variance\n",
            "Eigenvectors upto 136 expresses 90.17494416119077 % variance\n",
            "Eigenvectors upto 137 expresses 90.23875262895224 % variance\n",
            "Eigenvectors upto 138 expresses 90.30197028883762 % variance\n",
            "Eigenvectors upto 139 expresses 90.36433258315287 % variance\n",
            "Eigenvectors upto 140 expresses 90.42606758546115 % variance\n",
            "Eigenvectors upto 141 expresses 90.48727349239371 % variance\n",
            "Eigenvectors upto 142 expresses 90.54811523499868 % variance\n",
            "Eigenvectors upto 143 expresses 90.60839092443288 % variance\n",
            "Eigenvectors upto 144 expresses 90.66839632988372 % variance\n",
            "Eigenvectors upto 145 expresses 90.72756342358302 % variance\n",
            "Eigenvectors upto 146 expresses 90.78665420058167 % variance\n",
            "Eigenvectors upto 147 expresses 90.84534832889932 % variance\n",
            "Eigenvectors upto 148 expresses 90.90277177461031 % variance\n",
            "Eigenvectors upto 149 expresses 90.95987544310049 % variance\n",
            "Eigenvectors upto 150 expresses 91.01657450205356 % variance\n",
            "Eigenvectors upto 151 expresses 91.07264976943071 % variance\n",
            "Eigenvectors upto 152 expresses 91.12831186359138 % variance\n",
            "Eigenvectors upto 153 expresses 91.18385287310811 % variance\n",
            "Eigenvectors upto 154 expresses 91.23897361954052 % variance\n",
            "Eigenvectors upto 155 expresses 91.29344756876225 % variance\n",
            "Eigenvectors upto 156 expresses 91.3475517593638 % variance\n",
            "Eigenvectors upto 157 expresses 91.40121121939418 % variance\n",
            "Eigenvectors upto 158 expresses 91.45426306300877 % variance\n",
            "Eigenvectors upto 159 expresses 91.50670923095085 % variance\n",
            "Eigenvectors upto 160 expresses 91.55859360579741 % variance\n",
            "Eigenvectors upto 161 expresses 91.61016101616129 % variance\n",
            "Eigenvectors upto 162 expresses 91.66088512142169 % variance\n",
            "Eigenvectors upto 163 expresses 91.71117756770842 % variance\n",
            "Eigenvectors upto 164 expresses 91.76120618222136 % variance\n",
            "Eigenvectors upto 165 expresses 91.8110370319363 % variance\n",
            "Eigenvectors upto 166 expresses 91.860345581141 % variance\n",
            "Eigenvectors upto 167 expresses 91.90927071424557 % variance\n",
            "Eigenvectors upto 168 expresses 91.95793128301713 % variance\n",
            "Eigenvectors upto 169 expresses 92.00612988140726 % variance\n",
            "Eigenvectors upto 170 expresses 92.05402852364746 % variance\n",
            "Eigenvectors upto 171 expresses 92.10178839213448 % variance\n",
            "Eigenvectors upto 172 expresses 92.1490948473306 % variance\n",
            "Eigenvectors upto 173 expresses 92.19621186223422 % variance\n",
            "Eigenvectors upto 174 expresses 92.243007733026 % variance\n",
            "Eigenvectors upto 175 expresses 92.28941226212899 % variance\n",
            "Eigenvectors upto 176 expresses 92.33559587383427 % variance\n",
            "Eigenvectors upto 177 expresses 92.38141930664118 % variance\n",
            "Eigenvectors upto 178 expresses 92.4266306536994 % variance\n",
            "Eigenvectors upto 179 expresses 92.4717191049346 % variance\n",
            "Eigenvectors upto 180 expresses 92.51641709989421 % variance\n",
            "Eigenvectors upto 181 expresses 92.56078620151347 % variance\n",
            "Eigenvectors upto 182 expresses 92.6046250241629 % variance\n",
            "Eigenvectors upto 183 expresses 92.6482180851896 % variance\n",
            "Eigenvectors upto 184 expresses 92.69128418105628 % variance\n",
            "Eigenvectors upto 185 expresses 92.73380308892405 % variance\n",
            "Eigenvectors upto 186 expresses 92.77591722057856 % variance\n",
            "Eigenvectors upto 187 expresses 92.81790880206296 % variance\n",
            "Eigenvectors upto 188 expresses 92.85960430842415 % variance\n",
            "Eigenvectors upto 189 expresses 92.90093950818093 % variance\n",
            "Eigenvectors upto 190 expresses 92.942119437707 % variance\n",
            "Eigenvectors upto 191 expresses 92.98309278535959 % variance\n",
            "Eigenvectors upto 192 expresses 93.02368940424195 % variance\n",
            "Eigenvectors upto 193 expresses 93.06387924339074 % variance\n",
            "Eigenvectors upto 194 expresses 93.10372885357258 % variance\n",
            "Eigenvectors upto 195 expresses 93.1434130927931 % variance\n",
            "Eigenvectors upto 196 expresses 93.18285506644709 % variance\n",
            "Eigenvectors upto 197 expresses 93.22186910944352 % variance\n",
            "Eigenvectors upto 198 expresses 93.26078276733305 % variance\n",
            "Eigenvectors upto 199 expresses 93.29942065942818 % variance\n",
            "Eigenvectors upto 200 expresses 93.3380066813271 % variance\n"
          ]
        }
      ],
      "source": [
        "for i in range(200):\n",
        "    exp_var = np.sum(eig_values[:i+1])*100 / np.sum(eig_values)\n",
        "    print(f'Eigenvectors upto {i+1} expresses {exp_var} % variance')"
      ]
    },
    {
      "cell_type": "markdown",
      "metadata": {
        "id": "ILoLIAYrWTSq"
      },
      "source": [
        "# Visualizations\n",
        "## Eigenvector Visualization\n",
        "\n",
        "Project the scaled input into the first and second eigen vector and see the result."
      ]
    },
    {
      "cell_type": "code",
      "execution_count": 26,
      "metadata": {
        "id": "-89VNNOIWShA",
        "colab": {
          "base_uri": "https://localhost:8080/",
          "height": 241
        },
        "outputId": "e9841f52-2ed0-4e57-b97e-f2d544fdd8ad"
      },
      "outputs": [
        {
          "output_type": "stream",
          "name": "stdout",
          "text": [
            "(784,)\n",
            "(30000, 784)\n"
          ]
        },
        {
          "output_type": "execute_result",
          "data": {
            "text/plain": [
              "        PC1       PC2  Y\n",
              "0 -0.844139  1.676711  9\n",
              "1  2.214851 -0.847430  0\n",
              "2 -0.541782  0.428178  5\n",
              "3 -0.813575  0.243763  8\n",
              "4  2.145192 -1.487518  0"
            ],
            "text/html": [
              "\n",
              "  <div id=\"df-90d5327c-fa78-4360-804a-0075a3a92576\">\n",
              "    <div class=\"colab-df-container\">\n",
              "      <div>\n",
              "<style scoped>\n",
              "    .dataframe tbody tr th:only-of-type {\n",
              "        vertical-align: middle;\n",
              "    }\n",
              "\n",
              "    .dataframe tbody tr th {\n",
              "        vertical-align: top;\n",
              "    }\n",
              "\n",
              "    .dataframe thead th {\n",
              "        text-align: right;\n",
              "    }\n",
              "</style>\n",
              "<table border=\"1\" class=\"dataframe\">\n",
              "  <thead>\n",
              "    <tr style=\"text-align: right;\">\n",
              "      <th></th>\n",
              "      <th>PC1</th>\n",
              "      <th>PC2</th>\n",
              "      <th>Y</th>\n",
              "    </tr>\n",
              "  </thead>\n",
              "  <tbody>\n",
              "    <tr>\n",
              "      <th>0</th>\n",
              "      <td>-0.844139</td>\n",
              "      <td>1.676711</td>\n",
              "      <td>9</td>\n",
              "    </tr>\n",
              "    <tr>\n",
              "      <th>1</th>\n",
              "      <td>2.214851</td>\n",
              "      <td>-0.847430</td>\n",
              "      <td>0</td>\n",
              "    </tr>\n",
              "    <tr>\n",
              "      <th>2</th>\n",
              "      <td>-0.541782</td>\n",
              "      <td>0.428178</td>\n",
              "      <td>5</td>\n",
              "    </tr>\n",
              "    <tr>\n",
              "      <th>3</th>\n",
              "      <td>-0.813575</td>\n",
              "      <td>0.243763</td>\n",
              "      <td>8</td>\n",
              "    </tr>\n",
              "    <tr>\n",
              "      <th>4</th>\n",
              "      <td>2.145192</td>\n",
              "      <td>-1.487518</td>\n",
              "      <td>0</td>\n",
              "    </tr>\n",
              "  </tbody>\n",
              "</table>\n",
              "</div>\n",
              "      <button class=\"colab-df-convert\" onclick=\"convertToInteractive('df-90d5327c-fa78-4360-804a-0075a3a92576')\"\n",
              "              title=\"Convert this dataframe to an interactive table.\"\n",
              "              style=\"display:none;\">\n",
              "        \n",
              "  <svg xmlns=\"http://www.w3.org/2000/svg\" height=\"24px\"viewBox=\"0 0 24 24\"\n",
              "       width=\"24px\">\n",
              "    <path d=\"M0 0h24v24H0V0z\" fill=\"none\"/>\n",
              "    <path d=\"M18.56 5.44l.94 2.06.94-2.06 2.06-.94-2.06-.94-.94-2.06-.94 2.06-2.06.94zm-11 1L8.5 8.5l.94-2.06 2.06-.94-2.06-.94L8.5 2.5l-.94 2.06-2.06.94zm10 10l.94 2.06.94-2.06 2.06-.94-2.06-.94-.94-2.06-.94 2.06-2.06.94z\"/><path d=\"M17.41 7.96l-1.37-1.37c-.4-.4-.92-.59-1.43-.59-.52 0-1.04.2-1.43.59L10.3 9.45l-7.72 7.72c-.78.78-.78 2.05 0 2.83L4 21.41c.39.39.9.59 1.41.59.51 0 1.02-.2 1.41-.59l7.78-7.78 2.81-2.81c.8-.78.8-2.07 0-2.86zM5.41 20L4 18.59l7.72-7.72 1.47 1.35L5.41 20z\"/>\n",
              "  </svg>\n",
              "      </button>\n",
              "      \n",
              "  <style>\n",
              "    .colab-df-container {\n",
              "      display:flex;\n",
              "      flex-wrap:wrap;\n",
              "      gap: 12px;\n",
              "    }\n",
              "\n",
              "    .colab-df-convert {\n",
              "      background-color: #E8F0FE;\n",
              "      border: none;\n",
              "      border-radius: 50%;\n",
              "      cursor: pointer;\n",
              "      display: none;\n",
              "      fill: #1967D2;\n",
              "      height: 32px;\n",
              "      padding: 0 0 0 0;\n",
              "      width: 32px;\n",
              "    }\n",
              "\n",
              "    .colab-df-convert:hover {\n",
              "      background-color: #E2EBFA;\n",
              "      box-shadow: 0px 1px 2px rgba(60, 64, 67, 0.3), 0px 1px 3px 1px rgba(60, 64, 67, 0.15);\n",
              "      fill: #174EA6;\n",
              "    }\n",
              "\n",
              "    [theme=dark] .colab-df-convert {\n",
              "      background-color: #3B4455;\n",
              "      fill: #D2E3FC;\n",
              "    }\n",
              "\n",
              "    [theme=dark] .colab-df-convert:hover {\n",
              "      background-color: #434B5C;\n",
              "      box-shadow: 0px 1px 3px 1px rgba(0, 0, 0, 0.15);\n",
              "      filter: drop-shadow(0px 1px 2px rgba(0, 0, 0, 0.3));\n",
              "      fill: #FFFFFF;\n",
              "    }\n",
              "  </style>\n",
              "\n",
              "      <script>\n",
              "        const buttonEl =\n",
              "          document.querySelector('#df-90d5327c-fa78-4360-804a-0075a3a92576 button.colab-df-convert');\n",
              "        buttonEl.style.display =\n",
              "          google.colab.kernel.accessAllowed ? 'block' : 'none';\n",
              "\n",
              "        async function convertToInteractive(key) {\n",
              "          const element = document.querySelector('#df-90d5327c-fa78-4360-804a-0075a3a92576');\n",
              "          const dataTable =\n",
              "            await google.colab.kernel.invokeFunction('convertToInteractive',\n",
              "                                                     [key], {});\n",
              "          if (!dataTable) return;\n",
              "\n",
              "          const docLinkHtml = 'Like what you see? Visit the ' +\n",
              "            '<a target=\"_blank\" href=https://colab.research.google.com/notebooks/data_table.ipynb>data table notebook</a>'\n",
              "            + ' to learn more about interactive tables.';\n",
              "          element.innerHTML = '';\n",
              "          dataTable['output_type'] = 'display_data';\n",
              "          await google.colab.output.renderOutput(dataTable, element);\n",
              "          const docLink = document.createElement('div');\n",
              "          docLink.innerHTML = docLinkHtml;\n",
              "          element.appendChild(docLink);\n",
              "        }\n",
              "      </script>\n",
              "    </div>\n",
              "  </div>\n",
              "  "
            ]
          },
          "metadata": {},
          "execution_count": 26
        }
      ],
      "source": [
        "# Code Here\n",
        "print(eig_vectors[0].shape)\n",
        "print(X_scaled.shape)\n",
        "\n",
        "projected_1 = X_scaled.dot(eig_vectors[0])\n",
        "projected_2 = X_scaled.dot(eig_vectors[1])\n",
        "\n",
        "##\n",
        "res2d = pd.DataFrame(projected_1, columns=['PC1'])\n",
        "res2d['PC2'] = projected_2\n",
        "res2d['Y'] = labels\n",
        "res2d.head()"
      ]
    },
    {
      "cell_type": "markdown",
      "metadata": {
        "id": "9J6YZeXEcLRc"
      },
      "source": [
        "## 2D Visualization"
      ]
    },
    {
      "cell_type": "code",
      "execution_count": 30,
      "metadata": {
        "id": "s1_k1eFoWgkI",
        "colab": {
          "base_uri": "https://localhost:8080/",
          "height": 377
        },
        "outputId": "b674ea4c-1fe0-461a-c60d-4b6f1a1b245b"
      },
      "outputs": [
        {
          "output_type": "display_data",
          "data": {
            "text/plain": [
              "<Figure size 720x432 with 1 Axes>"
            ],
            "image/png": "[encoded data removed]"
          },
          "metadata": {
            "needs_background": "light"
          }
        }
      ],
      "source": [
        "plt.figure(figsize=(10,6))\n",
        "for label in selected_labels:\n",
        "    label_name = classes[label]\n",
        "    coords = res2d[res2d['Y']==label]\n",
        "    x = coords['PC1'].values\n",
        "    y = coords['PC2'].values\n",
        "    # print(coords)\n",
        "    plt.scatter(x, y, label=label_name)\n",
        "\n",
        "plt.legend()\n",
        "plt.show()"
      ]
    },
    {
      "cell_type": "markdown",
      "metadata": {
        "id": "ELdWci2YcOIU"
      },
      "source": [
        "## 3D Visualization\n",
        "\n",
        "Besides the above projections, project the scaled input on the third eigen vector to see the 3D visualization."
      ]
    },
    {
      "cell_type": "code",
      "execution_count": 32,
      "metadata": {
        "id": "U6tP1iosan4z",
        "colab": {
          "base_uri": "https://localhost:8080/",
          "height": 424
        },
        "outputId": "3b926186-8a09-42ab-c2c5-118597c0968b"
      },
      "outputs": [
        {
          "output_type": "execute_result",
          "data": {
            "text/plain": [
              "          PC1       PC2       PC3  Y\n",
              "0   -0.844139  1.676711 -0.040964  9\n",
              "1    2.214851 -0.847430 -0.383624  0\n",
              "2   -0.541782  0.428178  0.748980  5\n",
              "3   -0.813575  0.243763  1.004361  8\n",
              "4    2.145192 -1.487518 -0.327097  0\n",
              "..        ...       ...       ... ..\n",
              "495 -0.505080  2.169459  0.151080  8\n",
              "496 -0.918440 -0.945109 -0.950407  1\n",
              "497 -0.664719 -0.750301 -0.634713  1\n",
              "498 -0.670530 -0.761366  0.516579  8\n",
              "499 -0.894524  1.203528  0.245394  9\n",
              "\n",
              "[500 rows x 4 columns]"
            ],
            "text/html": [
              "\n",
              "  <div id=\"df-4f0e29cc-3a03-4fb3-b6d1-e4b233e1db4a\">\n",
              "    <div class=\"colab-df-container\">\n",
              "      <div>\n",
              "<style scoped>\n",
              "    .dataframe tbody tr th:only-of-type {\n",
              "        vertical-align: middle;\n",
              "    }\n",
              "\n",
              "    .dataframe tbody tr th {\n",
              "        vertical-align: top;\n",
              "    }\n",
              "\n",
              "    .dataframe thead th {\n",
              "        text-align: right;\n",
              "    }\n",
              "</style>\n",
              "<table border=\"1\" class=\"dataframe\">\n",
              "  <thead>\n",
              "    <tr style=\"text-align: right;\">\n",
              "      <th></th>\n",
              "      <th>PC1</th>\n",
              "      <th>PC2</th>\n",
              "      <th>PC3</th>\n",
              "      <th>Y</th>\n",
              "    </tr>\n",
              "  </thead>\n",
              "  <tbody>\n",
              "    <tr>\n",
              "      <th>0</th>\n",
              "      <td>-0.844139</td>\n",
              "      <td>1.676711</td>\n",
              "      <td>-0.040964</td>\n",
              "      <td>9</td>\n",
              "    </tr>\n",
              "    <tr>\n",
              "      <th>1</th>\n",
              "      <td>2.214851</td>\n",
              "      <td>-0.847430</td>\n",
              "      <td>-0.383624</td>\n",
              "      <td>0</td>\n",
              "    </tr>\n",
              "    <tr>\n",
              "      <th>2</th>\n",
              "      <td>-0.541782</td>\n",
              "      <td>0.428178</td>\n",
              "      <td>0.748980</td>\n",
              "      <td>5</td>\n",
              "    </tr>\n",
              "    <tr>\n",
              "      <th>3</th>\n",
              "      <td>-0.813575</td>\n",
              "      <td>0.243763</td>\n",
              "      <td>1.004361</td>\n",
              "      <td>8</td>\n",
              "    </tr>\n",
              "    <tr>\n",
              "      <th>4</th>\n",
              "      <td>2.145192</td>\n",
              "      <td>-1.487518</td>\n",
              "      <td>-0.327097</td>\n",
              "      <td>0</td>\n",
              "    </tr>\n",
              "    <tr>\n",
              "      <th>...</th>\n",
              "      <td>...</td>\n",
              "      <td>...</td>\n",
              "      <td>...</td>\n",
              "      <td>...</td>\n",
              "    </tr>\n",
              "    <tr>\n",
              "      <th>495</th>\n",
              "      <td>-0.505080</td>\n",
              "      <td>2.169459</td>\n",
              "      <td>0.151080</td>\n",
              "      <td>8</td>\n",
              "    </tr>\n",
              "    <tr>\n",
              "      <th>496</th>\n",
              "      <td>-0.918440</td>\n",
              "      <td>-0.945109</td>\n",
              "      <td>-0.950407</td>\n",
              "      <td>1</td>\n",
              "    </tr>\n",
              "    <tr>\n",
              "      <th>497</th>\n",
              "      <td>-0.664719</td>\n",
              "      <td>-0.750301</td>\n",
              "      <td>-0.634713</td>\n",
              "      <td>1</td>\n",
              "    </tr>\n",
              "    <tr>\n",
              "      <th>498</th>\n",
              "      <td>-0.670530</td>\n",
              "      <td>-0.761366</td>\n",
              "      <td>0.516579</td>\n",
              "      <td>8</td>\n",
              "    </tr>\n",
              "    <tr>\n",
              "      <th>499</th>\n",
              "      <td>-0.894524</td>\n",
              "      <td>1.203528</td>\n",
              "      <td>0.245394</td>\n",
              "      <td>9</td>\n",
              "    </tr>\n",
              "  </tbody>\n",
              "</table>\n",
              "<p>500 rows × 4 columns</p>\n",
              "</div>\n",
              "      <button class=\"colab-df-convert\" onclick=\"convertToInteractive('df-4f0e29cc-3a03-4fb3-b6d1-e4b233e1db4a')\"\n",
              "              title=\"Convert this dataframe to an interactive table.\"\n",
              "              style=\"display:none;\">\n",
              "        \n",
              "  <svg xmlns=\"http://www.w3.org/2000/svg\" height=\"24px\"viewBox=\"0 0 24 24\"\n",
              "       width=\"24px\">\n",
              "    <path d=\"M0 0h24v24H0V0z\" fill=\"none\"/>\n",
              "    <path d=\"M18.56 5.44l.94 2.06.94-2.06 2.06-.94-2.06-.94-.94-2.06-.94 2.06-2.06.94zm-11 1L8.5 8.5l.94-2.06 2.06-.94-2.06-.94L8.5 2.5l-.94 2.06-2.06.94zm10 10l.94 2.06.94-2.06 2.06-.94-2.06-.94-.94-2.06-.94 2.06-2.06.94z\"/><path d=\"M17.41 7.96l-1.37-1.37c-.4-.4-.92-.59-1.43-.59-.52 0-1.04.2-1.43.59L10.3 9.45l-7.72 7.72c-.78.78-.78 2.05 0 2.83L4 21.41c.39.39.9.59 1.41.59.51 0 1.02-.2 1.41-.59l7.78-7.78 2.81-2.81c.8-.78.8-2.07 0-2.86zM5.41 20L4 18.59l7.72-7.72 1.47 1.35L5.41 20z\"/>\n",
              "  </svg>\n",
              "      </button>\n",
              "      \n",
              "  <style>\n",
              "    .colab-df-container {\n",
              "      display:flex;\n",
              "      flex-wrap:wrap;\n",
              "      gap: 12px;\n",
              "    }\n",
              "\n",
              "    .colab-df-convert {\n",
              "      background-color: #E8F0FE;\n",
              "      border: none;\n",
              "      border-radius: 50%;\n",
              "      cursor: pointer;\n",
              "      display: none;\n",
              "      fill: #1967D2;\n",
              "      height: 32px;\n",
              "      padding: 0 0 0 0;\n",
              "      width: 32px;\n",
              "    }\n",
              "\n",
              "    .colab-df-convert:hover {\n",
              "      background-color: #E2EBFA;\n",
              "      box-shadow: 0px 1px 2px rgba(60, 64, 67, 0.3), 0px 1px 3px 1px rgba(60, 64, 67, 0.15);\n",
              "      fill: #174EA6;\n",
              "    }\n",
              "\n",
              "    [theme=dark] .colab-df-convert {\n",
              "      background-color: #3B4455;\n",
              "      fill: #D2E3FC;\n",
              "    }\n",
              "\n",
              "    [theme=dark] .colab-df-convert:hover {\n",
              "      background-color: #434B5C;\n",
              "      box-shadow: 0px 1px 3px 1px rgba(0, 0, 0, 0.15);\n",
              "      filter: drop-shadow(0px 1px 2px rgba(0, 0, 0, 0.3));\n",
              "      fill: #FFFFFF;\n",
              "    }\n",
              "  </style>\n",
              "\n",
              "      <script>\n",
              "        const buttonEl =\n",
              "          document.querySelector('#df-4f0e29cc-3a03-4fb3-b6d1-e4b233e1db4a button.colab-df-convert');\n",
              "        buttonEl.style.display =\n",
              "          google.colab.kernel.accessAllowed ? 'block' : 'none';\n",
              "\n",
              "        async function convertToInteractive(key) {\n",
              "          const element = document.querySelector('#df-4f0e29cc-3a03-4fb3-b6d1-e4b233e1db4a');\n",
              "          const dataTable =\n",
              "            await google.colab.kernel.invokeFunction('convertToInteractive',\n",
              "                                                     [key], {});\n",
              "          if (!dataTable) return;\n",
              "\n",
              "          const docLinkHtml = 'Like what you see? Visit the ' +\n",
              "            '<a target=\"_blank\" href=https://colab.research.google.com/notebooks/data_table.ipynb>data table notebook</a>'\n",
              "            + ' to learn more about interactive tables.';\n",
              "          element.innerHTML = '';\n",
              "          dataTable['output_type'] = 'display_data';\n",
              "          await google.colab.output.renderOutput(dataTable, element);\n",
              "          const docLink = document.createElement('div');\n",
              "          docLink.innerHTML = docLinkHtml;\n",
              "          element.appendChild(docLink);\n",
              "        }\n",
              "      </script>\n",
              "    </div>\n",
              "  </div>\n",
              "  "
            ]
          },
          "metadata": {},
          "execution_count": 32
        }
      ],
      "source": [
        "# Code Here\n",
        "projected_3 = X_scaled.dot(eig_vectors[2])\n",
        "\n",
        "##\n",
        "res3d = pd.DataFrame(projected_1, columns=['PC1'])\n",
        "res3d['PC2'] = projected_2\n",
        "res3d['PC3'] = projected_3\n",
        "res3d['Y'] = labels\n",
        "res3d = res3d.head(500)\n",
        "res3d"
      ]
    },
    {
      "cell_type": "code",
      "execution_count": 33,
      "metadata": {
        "id": "v7DzWsUTc-MX",
        "scrolled": true,
        "colab": {
          "base_uri": "https://localhost:8080/",
          "height": 320
        },
        "outputId": "6c6bc47f-af61-442d-d7a3-bd9198d31128"
      },
      "outputs": [
        {
          "output_type": "execute_result",
          "data": {
            "text/plain": [
              "<matplotlib.legend.Legend at 0x7fb98eac63d0>"
            ]
          },
          "metadata": {},
          "execution_count": 33
        },
        {
          "output_type": "display_data",
          "data": {
            "text/plain": [
              "<Figure size 360x360 with 1 Axes>"
            ],
            "image/png": "[encoded data removed]"
          },
          "metadata": {
            "needs_background": "light"
          }
        }
      ],
      "source": [
        "fig = plt.figure(figsize=(5,5))\n",
        "ax = fig.add_subplot(projection='3d')\n",
        "\n",
        "for label in selected_labels:\n",
        "    label_name = classes[label]\n",
        "    coords = res3d[res3d['Y']==label]\n",
        "    x = coords['PC1'].values\n",
        "    y = coords['PC2'].values\n",
        "    z = coords['PC3'].values\n",
        "    ax.scatter3D(x, y, z, label=label_name)\n",
        "    \n",
        "ax.set_xlabel('Principal Component 1')\n",
        "ax.set_ylabel('Principal Component 2')\n",
        "ax.set_zlabel('Principal Component 3')\n",
        "ax.legend()"
      ]
    },
    {
      "cell_type": "markdown",
      "metadata": {
        "id": "LEyMxcO1dLGa"
      },
      "source": [
        "# Reconstruction from Principal Component\n",
        "## Reduction/Compression Phase:\n",
        "<img src=\"https://i.stack.imgur.com/CKI4U.png\" alt=\"drawing\" style=\"width:200px;\"/>\n",
        "\n",
        "Above is the general form of vector on vector projection formula, in order to reconstruct our image we need to find the projection of our X_scaled ($a$) on each of the reduced_eigen_space vectors ($v$) (Note that our calculated eigen vectors are unit vectors, therefore, the denominator equals to one).\n",
        "\n",
        "Determine the number of eigen vectors needed to project image on, such that images can still be recognizable. Note that this number should NOT be accurate and something approximate is enough (don't message TAs about the accuracy :)) )."
      ]
    },
    {
      "cell_type": "code",
      "execution_count": 101,
      "metadata": {
        "id": "gTfS3AAjR4vw",
        "colab": {
          "base_uri": "https://localhost:8080/"
        },
        "outputId": "aee36fc5-c88b-47eb-d4af-c6dcb6d9a590"
      },
      "outputs": [
        {
          "output_type": "stream",
          "name": "stdout",
          "text": [
            "252\n"
          ]
        }
      ],
      "source": [
        "# Code Here\n",
        "index = 0\n",
        "for i in range(len(eig_values)):\n",
        "    exp_var = np.sum(eig_values[:i+1])*100 / np.sum(eig_values)\n",
        "    if exp_var >= 95:\n",
        "        break;\n",
        "    index += 1\n",
        "number_of_eigen_vectors = index + 1\n",
        "print(number_of_eigen_vectors)\n",
        "##\n",
        "reduced_eigen_space = eig_vectors[:, :number_of_eigen_vectors]"
      ]
    },
    {
      "cell_type": "code",
      "execution_count": 102,
      "metadata": {
        "id": "-JIB7T-wR4vw",
        "colab": {
          "base_uri": "https://localhost:8080/"
        },
        "outputId": "b7dbae60-6a1b-4563-c24e-1e12b5cd2507"
      },
      "outputs": [
        {
          "output_type": "stream",
          "name": "stdout",
          "text": [
            "Shape of X_scaled: (30000, 784)\n",
            "Shape of reduced_eigen_space: (784, 252)\n",
            "Shape of X_compressed: (30000, 252)\n"
          ]
        }
      ],
      "source": [
        "# Code Here\n",
        "X_compressed = X_scaled.dot(reduced_eigen_space)\n",
        "\n",
        "##\n",
        "\n",
        "assert X_compressed.shape == (X_scaled.shape[0], number_of_eigen_vectors), \"shape of X_compresed is wrong\"\n",
        "\n",
        "print(f'Shape of X_scaled: {X_scaled.shape}')\n",
        "print(f'Shape of reduced_eigen_space: {reduced_eigen_space.shape}')\n",
        "print(f'Shape of X_compressed: {X_compressed.shape}')"
      ]
    },
    {
      "cell_type": "markdown",
      "metadata": {
        "id": "NTKys0rcR4vx"
      },
      "source": [
        "## Reconstrunction Phase:"
      ]
    },
    {
      "cell_type": "code",
      "execution_count": 103,
      "metadata": {
        "id": "ljqG8LQTR4vx",
        "colab": {
          "base_uri": "https://localhost:8080/"
        },
        "outputId": "297cb86f-27ce-4cf8-b0bf-bc517bb73bfa"
      },
      "outputs": [
        {
          "output_type": "stream",
          "name": "stdout",
          "text": [
            "Shape of X_compressed: (30000, 252)\n",
            "Shape of reduced_eigen_space: (784, 252)\n",
            "Shape of X_reconstructed: (30000, 784)\n"
          ]
        }
      ],
      "source": [
        "# Code Here\n",
        "X_reconstructed = X_compressed.dot(reduced_eigen_space.T)                # Reconstructed data\n",
        "data_reconstructed = X_reconstructed * std_ + mean_             # De-standardized data\n",
        "\n",
        "##\n",
        "\n",
        "reconstructed_images = np.reshape(data_reconstructed, (-1, 28, 28))\n",
        "\n",
        "print(f'Shape of X_compressed: {X_compressed.shape}')\n",
        "print(f'Shape of reduced_eigen_space: {reduced_eigen_space.shape}')\n",
        "print(f'Shape of X_reconstructed: {X_reconstructed.shape}')\n",
        "\n",
        "rec_index = 0"
      ]
    },
    {
      "cell_type": "code",
      "execution_count": 104,
      "metadata": {
        "id": "Wl1Cv-HLR4vx",
        "colab": {
          "base_uri": "https://localhost:8080/",
          "height": 199
        },
        "outputId": "682e26fd-33bc-4d63-b5de-6fd93946b74d"
      },
      "outputs": [
        {
          "output_type": "display_data",
          "data": {
            "text/plain": [
              "<Figure size 432x288 with 2 Axes>"
            ],
            "image/png": "[encoded data removed]"
          },
          "metadata": {
            "needs_background": "light"
          }
        }
      ],
      "source": [
        "\n",
        "\n",
        "f = plt.figure()\n",
        "ax1 = f.add_subplot(1,2,1)\n",
        "plt.imshow(images[rec_index].squeeze(), cmap = 'gray')\n",
        "ax1.axis(False)\n",
        "ax2 = f.add_subplot(1,2,2)\n",
        "ax2.axis(False)\n",
        "plt.imshow(reconstructed_images[rec_index].squeeze(), cmap = 'gray')\n",
        "ax1.title.set_text('Original')\n",
        "ax2.title.set_text('Reconstructed after Compression')\n",
        "plt.show(block=True)\n",
        "rec_index +=1\n"
      ]
    }
  ],
  "metadata": {
    "colab": {
      "toc_visible": true,
      "provenance": [],
      "include_colab_link": true
    },
    "kernelspec": {
      "display_name": "Python 3",
      "language": "python",
      "name": "python3"
    },
    "language_info": {
      "codemirror_mode": {
        "name": "ipython",
        "version": 3
      },
      "file_extension": ".py",
      "mimetype": "text/x-python",
      "name": "python",
      "nbconvert_exporter": "python",
      "pygments_lexer": "ipython3",
      "version": "3.10.8 (tags/v3.10.8:aaaf517, Oct 11 2022, 16:50:30) [MSC v.1933 64 bit (AMD64)]"
    },
    "vscode": {
      "interpreter": {
        "hash": "8848db57d6de7be7efa3af564b180776d4c97d4852b86ca969fd58f9e4add6e3"
      }
    },
    "gpuClass": "standard"
  },
  "nbformat": 4,
  "nbformat_minor": 0
}